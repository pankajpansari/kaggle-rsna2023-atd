{
 "cells": [
  {
   "cell_type": "code",
   "execution_count": 1,
   "id": "bff371a2",
   "metadata": {
    "execution": {
     "iopub.execute_input": "2023-08-31T14:46:19.091923Z",
     "iopub.status.busy": "2023-08-31T14:46:19.090862Z",
     "iopub.status.idle": "2023-08-31T14:46:25.774777Z",
     "shell.execute_reply": "2023-08-31T14:46:25.773585Z"
    },
    "papermill": {
     "duration": 6.694526,
     "end_time": "2023-08-31T14:46:25.777742",
     "exception": false,
     "start_time": "2023-08-31T14:46:19.083216",
     "status": "completed"
    },
    "tags": []
   },
   "outputs": [
    {
     "name": "stderr",
     "output_type": "stream",
     "text": [
      "/opt/conda/lib/python3.10/site-packages/scipy/__init__.py:146: UserWarning: A NumPy version >=1.16.5 and <1.23.0 is required for this version of SciPy (detected version 1.23.5\n",
      "  warnings.warn(f\"A NumPy version >={np_minversion} and <{np_maxversion}\"\n"
     ]
    }
   ],
   "source": [
    "import numpy as np\n",
    "import pandas as pd\n",
    "import os, random\n",
    "from fastai.vision.all import *\n",
    "import shutil\n",
    "import pydicom\n",
    "import cv2\n",
    "import glob\n",
    "\n",
    "from tqdm.notebook import tqdm\n",
    "from joblib import Parallel, delayed"
   ]
  },
  {
   "cell_type": "code",
   "execution_count": 2,
   "id": "b9c4f87f",
   "metadata": {
    "execution": {
     "iopub.execute_input": "2023-08-31T14:46:25.791077Z",
     "iopub.status.busy": "2023-08-31T14:46:25.790739Z",
     "iopub.status.idle": "2023-08-31T14:46:31.413065Z",
     "shell.execute_reply": "2023-08-31T14:46:31.412009Z"
    },
    "papermill": {
     "duration": 5.631914,
     "end_time": "2023-08-31T14:46:31.415794",
     "exception": false,
     "start_time": "2023-08-31T14:46:25.783880",
     "status": "completed"
    },
    "tags": []
   },
   "outputs": [],
   "source": [
    "new_learn = load_learner('/kaggle/input/atd-baseline1-model/model.pt', cpu = False)"
   ]
  },
  {
   "cell_type": "code",
   "execution_count": 3,
   "id": "b1b85c66",
   "metadata": {
    "execution": {
     "iopub.execute_input": "2023-08-31T14:46:31.428889Z",
     "iopub.status.busy": "2023-08-31T14:46:31.428028Z",
     "iopub.status.idle": "2023-08-31T14:46:31.442292Z",
     "shell.execute_reply": "2023-08-31T14:46:31.441323Z"
    },
    "papermill": {
     "duration": 0.02308,
     "end_time": "2023-08-31T14:46:31.444592",
     "exception": false,
     "start_time": "2023-08-31T14:46:31.421512",
     "status": "completed"
    },
    "tags": []
   },
   "outputs": [
    {
     "name": "stdout",
     "output_type": "stream",
     "text": [
      "Number of test patients: 3\n"
     ]
    }
   ],
   "source": [
    "TEST_PATH = '/kaggle/input/rsna-2023-abdominal-trauma-detection/test_images/'\n",
    "SAVE_FOLDER = '/kaggle/working/test_png/'\n",
    "SIZE = 512\n",
    "EXTENSION = 'png'\n",
    "\n",
    "os.makedirs(SAVE_FOLDER, exist_ok = True)\n",
    "#os.makedirs(TEST_PATH, exist_ok = True)\n",
    "#!cp -r /kaggle/input/rsna-2023-abdominal-trauma-detection/train_images/10004 /kaggle/working/test_images/\n",
    "#!cp -r /kaggle/input/rsna-2023-abdominal-trauma-detection/train_images/10005 /kaggle/working/test_images/\n",
    "print('Number of test patients:', len(os.listdir(TEST_PATH)))"
   ]
  },
  {
   "cell_type": "code",
   "execution_count": 4,
   "id": "accf930b",
   "metadata": {
    "execution": {
     "iopub.execute_input": "2023-08-31T14:46:31.456326Z",
     "iopub.status.busy": "2023-08-31T14:46:31.456031Z",
     "iopub.status.idle": "2023-08-31T14:46:31.465131Z",
     "shell.execute_reply": "2023-08-31T14:46:31.464238Z"
    },
    "papermill": {
     "duration": 0.017349,
     "end_time": "2023-08-31T14:46:31.467139",
     "exception": false,
     "start_time": "2023-08-31T14:46:31.449790",
     "status": "completed"
    },
    "tags": []
   },
   "outputs": [],
   "source": [
    "def process(patient, size = SIZE, save_folder = \"\", data_path = \"\"):\n",
    "    \n",
    "    num_scans = 10\n",
    "    for study in sorted(os.listdir(data_path + patient)):\n",
    "        imgs = {}\n",
    "        for f in sorted(random.choices(glob.glob(data_path + f\"{patient}/{study}/*.dcm\"), k = num_scans)):\n",
    "            \n",
    "            dicom = pydicom.dcmread(f)\n",
    "            pos_z = dicom[(0x20, 0x32)].value[-1]\n",
    "            \n",
    "            img = dicom.pixel_array\n",
    "            img = (img - img.min())/(img.max() - img.min() + 1e-6)\n",
    "            \n",
    "            imgs[pos_z] = img\n",
    "        \n",
    "        for i, k in enumerate(sorted(imgs.keys())):\n",
    "            \n",
    "            img = imgs[k]\n",
    "            \n",
    "            img = cv2.resize(img, (size, size))\n",
    "            cv2.imwrite(save_folder + f\"{patient}_{study}_{i}.png\", (img * 255).astype(np.uint8))"
   ]
  },
  {
   "cell_type": "code",
   "execution_count": 5,
   "id": "fe866a2e",
   "metadata": {
    "execution": {
     "iopub.execute_input": "2023-08-31T14:46:31.480227Z",
     "iopub.status.busy": "2023-08-31T14:46:31.478578Z",
     "iopub.status.idle": "2023-08-31T14:46:31.484410Z",
     "shell.execute_reply": "2023-08-31T14:46:31.483497Z"
    },
    "papermill": {
     "duration": 0.014364,
     "end_time": "2023-08-31T14:46:31.486745",
     "exception": false,
     "start_time": "2023-08-31T14:46:31.472381",
     "status": "completed"
    },
    "tags": []
   },
   "outputs": [
    {
     "name": "stdout",
     "output_type": "stream",
     "text": [
      "Number of cores:  2\n"
     ]
    }
   ],
   "source": [
    "import multiprocessing\n",
    "print('Number of cores: ', multiprocessing.cpu_count())"
   ]
  },
  {
   "cell_type": "code",
   "execution_count": 6,
   "id": "a3f57fc9",
   "metadata": {
    "execution": {
     "iopub.execute_input": "2023-08-31T14:46:31.498820Z",
     "iopub.status.busy": "2023-08-31T14:46:31.497971Z",
     "iopub.status.idle": "2023-08-31T14:46:33.014771Z",
     "shell.execute_reply": "2023-08-31T14:46:33.013635Z"
    },
    "papermill": {
     "duration": 1.525446,
     "end_time": "2023-08-31T14:46:33.017347",
     "exception": false,
     "start_time": "2023-08-31T14:46:31.491901",
     "status": "completed"
    },
    "tags": []
   },
   "outputs": [
    {
     "data": {
      "application/vnd.jupyter.widget-view+json": {
       "model_id": "e2a02a885cf5495bb0527e09cb6b7b67",
       "version_major": 2,
       "version_minor": 0
      },
      "text/plain": [
       "  0%|          | 0/3 [00:00<?, ?it/s]"
      ]
     },
     "metadata": {},
     "output_type": "display_data"
    }
   ],
   "source": [
    "patients = os.listdir(TEST_PATH)\n",
    "\n",
    "_ = Parallel(n_jobs = 2)(\n",
    "    delayed(process)(patient, size=512, save_folder=SAVE_FOLDER, data_path=TEST_PATH)\n",
    "    for patient in tqdm(patients)\n",
    ")\n",
    "    \n",
    "files = get_image_files(SAVE_FOLDER)"
   ]
  },
  {
   "cell_type": "code",
   "execution_count": 7,
   "id": "76363089",
   "metadata": {
    "execution": {
     "iopub.execute_input": "2023-08-31T14:46:33.031652Z",
     "iopub.status.busy": "2023-08-31T14:46:33.030608Z",
     "iopub.status.idle": "2023-08-31T14:46:38.118783Z",
     "shell.execute_reply": "2023-08-31T14:46:38.117758Z"
    },
    "papermill": {
     "duration": 5.097722,
     "end_time": "2023-08-31T14:46:38.121006",
     "exception": false,
     "start_time": "2023-08-31T14:46:33.023284",
     "status": "completed"
    },
    "tags": []
   },
   "outputs": [
    {
     "data": {
      "text/html": [
       "\n",
       "<style>\n",
       "    /* Turns off some styling */\n",
       "    progress {\n",
       "        /* gets rid of default border in Firefox and Opera. */\n",
       "        border: none;\n",
       "        /* Needs to be in here for Safari polyfill so background images work as expected. */\n",
       "        background-size: auto;\n",
       "    }\n",
       "    progress:not([value]), progress:not([value])::-webkit-progress-bar {\n",
       "        background: repeating-linear-gradient(45deg, #7e7e7e, #7e7e7e 10px, #5c5c5c 10px, #5c5c5c 20px);\n",
       "    }\n",
       "    .progress-bar-interrupted, .progress-bar-interrupted::-webkit-progress-bar {\n",
       "        background: #F44336;\n",
       "    }\n",
       "</style>\n"
      ],
      "text/plain": [
       "<IPython.core.display.HTML object>"
      ]
     },
     "metadata": {},
     "output_type": "display_data"
    },
    {
     "data": {
      "text/html": [],
      "text/plain": [
       "<IPython.core.display.HTML object>"
      ]
     },
     "metadata": {},
     "output_type": "display_data"
    }
   ],
   "source": [
    "test_dl = new_learn.dls.test_dl(files, with_labels = False)\n",
    "test_dl.batch_size = 256\n",
    "\n",
    "preds = new_learn.get_preds(dl = test_dl)[0].numpy()"
   ]
  },
  {
   "cell_type": "code",
   "execution_count": 8,
   "id": "0bf2adc4",
   "metadata": {
    "execution": {
     "iopub.execute_input": "2023-08-31T14:46:38.135166Z",
     "iopub.status.busy": "2023-08-31T14:46:38.134200Z",
     "iopub.status.idle": "2023-08-31T14:46:38.160303Z",
     "shell.execute_reply": "2023-08-31T14:46:38.159385Z"
    },
    "papermill": {
     "duration": 0.035252,
     "end_time": "2023-08-31T14:46:38.162365",
     "exception": false,
     "start_time": "2023-08-31T14:46:38.127113",
     "status": "completed"
    },
    "tags": []
   },
   "outputs": [],
   "source": [
    "test_files_probs = pd.DataFrame()\n",
    "\n",
    "test_files_probs['fname'] = pd.Series(os.listdir(SAVE_FOLDER), dtype = 'string')\n",
    "\n",
    "test_files_probs['bowel_healthy'] = pd.Series(1 - preds[:, 0])\n",
    "test_files_probs['bowel_injury'] = pd.Series(preds[:, 0])\n",
    "test_files_probs['extravasation_healthy'] = pd.Series(1 - preds[:, 1])\n",
    "test_files_probs['extravasation_injury'] = pd.Series(preds[:, 1])\n",
    "test_files_probs['extravasation_healthy'] = pd.Series(1 - preds[:, 1])\n",
    "test_files_probs['kidney_healthy'] = pd.Series(1 - preds[:, 2])\n",
    "test_files_probs['kidney_low'] = pd.Series(preds[:, 2]/2)\n",
    "test_files_probs['kidney_high'] = pd.Series(preds[:, 2]/2)\n",
    "test_files_probs['liver_healthy'] = pd.Series(1 - preds[:, 3])\n",
    "test_files_probs['liver_low'] = pd.Series(preds[:, 3]/2)\n",
    "test_files_probs['liver_high'] = pd.Series(preds[:, 3]/2)\n",
    "test_files_probs['spleen_healthy'] = pd.Series(1 - preds[:, 4])\n",
    "test_files_probs['spleen_low'] = pd.Series(preds[:, 4]/2)\n",
    "test_files_probs['spleen_high'] = pd.Series(preds[:, 4]/2)\n",
    "\n",
    "#test_files_probs"
   ]
  },
  {
   "cell_type": "code",
   "execution_count": 9,
   "id": "155ea408",
   "metadata": {
    "execution": {
     "iopub.execute_input": "2023-08-31T14:46:38.175719Z",
     "iopub.status.busy": "2023-08-31T14:46:38.174916Z",
     "iopub.status.idle": "2023-08-31T14:46:38.181389Z",
     "shell.execute_reply": "2023-08-31T14:46:38.180442Z"
    },
    "papermill": {
     "duration": 0.015255,
     "end_time": "2023-08-31T14:46:38.183546",
     "exception": false,
     "start_time": "2023-08-31T14:46:38.168291",
     "status": "completed"
    },
    "tags": []
   },
   "outputs": [],
   "source": [
    "patient_id_list = []\n",
    "for idx, fname in enumerate(test_files_probs['fname']):\n",
    "    patient_id_list.append(test_files_probs.fname[idx].split('_')[0])\n",
    "    \n",
    "test_files_probs['patient_id'] = pd.Series(patient_id_list, dtype = 'string')\n",
    "#test_files_probs"
   ]
  },
  {
   "cell_type": "code",
   "execution_count": 10,
   "id": "bd3b76c5",
   "metadata": {
    "execution": {
     "iopub.execute_input": "2023-08-31T14:46:38.196123Z",
     "iopub.status.busy": "2023-08-31T14:46:38.195851Z",
     "iopub.status.idle": "2023-08-31T14:46:38.226909Z",
     "shell.execute_reply": "2023-08-31T14:46:38.225738Z"
    },
    "papermill": {
     "duration": 0.041414,
     "end_time": "2023-08-31T14:46:38.230749",
     "exception": false,
     "start_time": "2023-08-31T14:46:38.189335",
     "status": "completed"
    },
    "tags": []
   },
   "outputs": [
    {
     "name": "stderr",
     "output_type": "stream",
     "text": [
      "/tmp/ipykernel_24/935710440.py:1: FutureWarning: The default value of numeric_only in DataFrameGroupBy.mean is deprecated. In a future version, numeric_only will default to False. Either specify numeric_only or select only columns which should be valid for the function.\n",
      "  x = test_files_probs.groupby('patient_id').mean()\n"
     ]
    },
    {
     "data": {
      "text/html": [
       "<div>\n",
       "<style scoped>\n",
       "    .dataframe tbody tr th:only-of-type {\n",
       "        vertical-align: middle;\n",
       "    }\n",
       "\n",
       "    .dataframe tbody tr th {\n",
       "        vertical-align: top;\n",
       "    }\n",
       "\n",
       "    .dataframe thead th {\n",
       "        text-align: right;\n",
       "    }\n",
       "</style>\n",
       "<table border=\"1\" class=\"dataframe\">\n",
       "  <thead>\n",
       "    <tr style=\"text-align: right;\">\n",
       "      <th></th>\n",
       "      <th>patient_id</th>\n",
       "      <th>bowel_healthy</th>\n",
       "      <th>bowel_injury</th>\n",
       "      <th>extravasation_healthy</th>\n",
       "      <th>extravasation_injury</th>\n",
       "      <th>kidney_healthy</th>\n",
       "      <th>kidney_low</th>\n",
       "      <th>kidney_high</th>\n",
       "      <th>liver_healthy</th>\n",
       "      <th>liver_low</th>\n",
       "      <th>liver_high</th>\n",
       "      <th>spleen_healthy</th>\n",
       "      <th>spleen_low</th>\n",
       "      <th>spleen_high</th>\n",
       "    </tr>\n",
       "  </thead>\n",
       "  <tbody>\n",
       "    <tr>\n",
       "      <th>0</th>\n",
       "      <td>48843</td>\n",
       "      <td>0.598430</td>\n",
       "      <td>0.401570</td>\n",
       "      <td>0.214198</td>\n",
       "      <td>0.785802</td>\n",
       "      <td>0.640973</td>\n",
       "      <td>0.179513</td>\n",
       "      <td>0.179513</td>\n",
       "      <td>0.681621</td>\n",
       "      <td>0.159190</td>\n",
       "      <td>0.159190</td>\n",
       "      <td>0.591546</td>\n",
       "      <td>0.204227</td>\n",
       "      <td>0.204227</td>\n",
       "    </tr>\n",
       "    <tr>\n",
       "      <th>1</th>\n",
       "      <td>50046</td>\n",
       "      <td>0.559621</td>\n",
       "      <td>0.440379</td>\n",
       "      <td>0.220175</td>\n",
       "      <td>0.779825</td>\n",
       "      <td>0.862120</td>\n",
       "      <td>0.068940</td>\n",
       "      <td>0.068940</td>\n",
       "      <td>0.768038</td>\n",
       "      <td>0.115981</td>\n",
       "      <td>0.115981</td>\n",
       "      <td>0.295738</td>\n",
       "      <td>0.352131</td>\n",
       "      <td>0.352131</td>\n",
       "    </tr>\n",
       "    <tr>\n",
       "      <th>2</th>\n",
       "      <td>63706</td>\n",
       "      <td>0.727782</td>\n",
       "      <td>0.272218</td>\n",
       "      <td>0.641310</td>\n",
       "      <td>0.358690</td>\n",
       "      <td>0.946498</td>\n",
       "      <td>0.026751</td>\n",
       "      <td>0.026751</td>\n",
       "      <td>0.385548</td>\n",
       "      <td>0.307226</td>\n",
       "      <td>0.307226</td>\n",
       "      <td>0.465114</td>\n",
       "      <td>0.267443</td>\n",
       "      <td>0.267443</td>\n",
       "    </tr>\n",
       "  </tbody>\n",
       "</table>\n",
       "</div>"
      ],
      "text/plain": [
       "  patient_id  bowel_healthy  bowel_injury  extravasation_healthy  \\\n",
       "0      48843       0.598430      0.401570               0.214198   \n",
       "1      50046       0.559621      0.440379               0.220175   \n",
       "2      63706       0.727782      0.272218               0.641310   \n",
       "\n",
       "   extravasation_injury  kidney_healthy  kidney_low  kidney_high  \\\n",
       "0              0.785802        0.640973    0.179513     0.179513   \n",
       "1              0.779825        0.862120    0.068940     0.068940   \n",
       "2              0.358690        0.946498    0.026751     0.026751   \n",
       "\n",
       "   liver_healthy  liver_low  liver_high  spleen_healthy  spleen_low  \\\n",
       "0       0.681621   0.159190    0.159190        0.591546    0.204227   \n",
       "1       0.768038   0.115981    0.115981        0.295738    0.352131   \n",
       "2       0.385548   0.307226    0.307226        0.465114    0.267443   \n",
       "\n",
       "   spleen_high  \n",
       "0     0.204227  \n",
       "1     0.352131  \n",
       "2     0.267443  "
      ]
     },
     "execution_count": 10,
     "metadata": {},
     "output_type": "execute_result"
    }
   ],
   "source": [
    "x = test_files_probs.groupby('patient_id').mean()\n",
    "\n",
    "x.insert(0, 'patient_id', x.index)\n",
    "x.reset_index(drop = True)"
   ]
  },
  {
   "cell_type": "code",
   "execution_count": 11,
   "id": "9884e989",
   "metadata": {
    "execution": {
     "iopub.execute_input": "2023-08-31T14:46:38.244233Z",
     "iopub.status.busy": "2023-08-31T14:46:38.243950Z",
     "iopub.status.idle": "2023-08-31T14:46:38.253560Z",
     "shell.execute_reply": "2023-08-31T14:46:38.252709Z"
    },
    "papermill": {
     "duration": 0.018504,
     "end_time": "2023-08-31T14:46:38.255522",
     "exception": false,
     "start_time": "2023-08-31T14:46:38.237018",
     "status": "completed"
    },
    "tags": []
   },
   "outputs": [],
   "source": [
    "x.to_csv('submission.csv', header = True, index = False)"
   ]
  }
 ],
 "kernelspec": {
  "display_name": "Python 3",
  "language": "python",
  "name": "python3"
 },
 "language_info": {
  "codemirror_mode": {
   "name": "ipython",
   "version": 3
  },
  "file_extension": ".py",
  "mimetype": "text/x-python",
  "name": "python",
  "nbconvert_exporter": "python",
  "pygments_lexer": "ipython3",
  "version": "3.6.4"
 },
 "metadata": {
  "kernelspec": {
   "display_name": "Python 3",
   "language": "python",
   "name": "python3"
  },
  "language_info": {
   "codemirror_mode": {
    "name": "ipython",
    "version": 3
   },
   "file_extension": ".py",
   "mimetype": "text/x-python",
   "name": "python",
   "nbconvert_exporter": "python",
   "pygments_lexer": "ipython3",
   "version": "3.10.12"
  },
  "papermill": {
   "default_parameters": {},
   "duration": 32.153269,
   "end_time": "2023-08-31T14:46:41.082133",
   "environment_variables": {},
   "exception": null,
   "input_path": "__notebook__.ipynb",
   "output_path": "__notebook__.ipynb",
   "parameters": {},
   "start_time": "2023-08-31T14:46:08.928864",
   "version": "2.4.0"
  },
  "widgets": {
   "application/vnd.jupyter.widget-state+json": {
    "state": {
     "04935d969a19413d977b40f99c384052": {
      "model_module": "@jupyter-widgets/controls",
      "model_module_version": "1.5.0",
      "model_name": "DescriptionStyleModel",
      "state": {
       "_model_module": "@jupyter-widgets/controls",
       "_model_module_version": "1.5.0",
       "_model_name": "DescriptionStyleModel",
       "_view_count": null,
       "_view_module": "@jupyter-widgets/base",
       "_view_module_version": "1.2.0",
       "_view_name": "StyleView",
       "description_width": ""
      }
     },
     "494cddc2fe224ecc8f6b17f2ecb7bf77": {
      "model_module": "@jupyter-widgets/controls",
      "model_module_version": "1.5.0",
      "model_name": "ProgressStyleModel",
      "state": {
       "_model_module": "@jupyter-widgets/controls",
       "_model_module_version": "1.5.0",
       "_model_name": "ProgressStyleModel",
       "_view_count": null,
       "_view_module": "@jupyter-widgets/base",
       "_view_module_version": "1.2.0",
       "_view_name": "StyleView",
       "bar_color": null,
       "description_width": ""
      }
     },
     "6809019dc0a649e59431f83cd9eaac72": {
      "model_module": "@jupyter-widgets/base",
      "model_module_version": "1.2.0",
      "model_name": "LayoutModel",
      "state": {
       "_model_module": "@jupyter-widgets/base",
       "_model_module_version": "1.2.0",
       "_model_name": "LayoutModel",
       "_view_count": null,
       "_view_module": "@jupyter-widgets/base",
       "_view_module_version": "1.2.0",
       "_view_name": "LayoutView",
       "align_content": null,
       "align_items": null,
       "align_self": null,
       "border": null,
       "bottom": null,
       "display": null,
       "flex": null,
       "flex_flow": null,
       "grid_area": null,
       "grid_auto_columns": null,
       "grid_auto_flow": null,
       "grid_auto_rows": null,
       "grid_column": null,
       "grid_gap": null,
       "grid_row": null,
       "grid_template_areas": null,
       "grid_template_columns": null,
       "grid_template_rows": null,
       "height": null,
       "justify_content": null,
       "justify_items": null,
       "left": null,
       "margin": null,
       "max_height": null,
       "max_width": null,
       "min_height": null,
       "min_width": null,
       "object_fit": null,
       "object_position": null,
       "order": null,
       "overflow": null,
       "overflow_x": null,
       "overflow_y": null,
       "padding": null,
       "right": null,
       "top": null,
       "visibility": null,
       "width": null
      }
     },
     "973218ff9324484b844cda950aad837b": {
      "model_module": "@jupyter-widgets/controls",
      "model_module_version": "1.5.0",
      "model_name": "HTMLModel",
      "state": {
       "_dom_classes": [],
       "_model_module": "@jupyter-widgets/controls",
       "_model_module_version": "1.5.0",
       "_model_name": "HTMLModel",
       "_view_count": null,
       "_view_module": "@jupyter-widgets/controls",
       "_view_module_version": "1.5.0",
       "_view_name": "HTMLView",
       "description": "",
       "description_tooltip": null,
       "layout": "IPY_MODEL_c5e72d65856742e58c0675ba4acda6bc",
       "placeholder": "​",
       "style": "IPY_MODEL_a92be730a85f434c8aa99bf1a19e53c6",
       "value": "100%"
      }
     },
     "9942b557ec204ceaa85f11fafe91cb77": {
      "model_module": "@jupyter-widgets/base",
      "model_module_version": "1.2.0",
      "model_name": "LayoutModel",
      "state": {
       "_model_module": "@jupyter-widgets/base",
       "_model_module_version": "1.2.0",
       "_model_name": "LayoutModel",
       "_view_count": null,
       "_view_module": "@jupyter-widgets/base",
       "_view_module_version": "1.2.0",
       "_view_name": "LayoutView",
       "align_content": null,
       "align_items": null,
       "align_self": null,
       "border": null,
       "bottom": null,
       "display": null,
       "flex": null,
       "flex_flow": null,
       "grid_area": null,
       "grid_auto_columns": null,
       "grid_auto_flow": null,
       "grid_auto_rows": null,
       "grid_column": null,
       "grid_gap": null,
       "grid_row": null,
       "grid_template_areas": null,
       "grid_template_columns": null,
       "grid_template_rows": null,
       "height": null,
       "justify_content": null,
       "justify_items": null,
       "left": null,
       "margin": null,
       "max_height": null,
       "max_width": null,
       "min_height": null,
       "min_width": null,
       "object_fit": null,
       "object_position": null,
       "order": null,
       "overflow": null,
       "overflow_x": null,
       "overflow_y": null,
       "padding": null,
       "right": null,
       "top": null,
       "visibility": null,
       "width": null
      }
     },
     "a92be730a85f434c8aa99bf1a19e53c6": {
      "model_module": "@jupyter-widgets/controls",
      "model_module_version": "1.5.0",
      "model_name": "DescriptionStyleModel",
      "state": {
       "_model_module": "@jupyter-widgets/controls",
       "_model_module_version": "1.5.0",
       "_model_name": "DescriptionStyleModel",
       "_view_count": null,
       "_view_module": "@jupyter-widgets/base",
       "_view_module_version": "1.2.0",
       "_view_name": "StyleView",
       "description_width": ""
      }
     },
     "ba55feec9abf447aa654d5b06b156dc6": {
      "model_module": "@jupyter-widgets/base",
      "model_module_version": "1.2.0",
      "model_name": "LayoutModel",
      "state": {
       "_model_module": "@jupyter-widgets/base",
       "_model_module_version": "1.2.0",
       "_model_name": "LayoutModel",
       "_view_count": null,
       "_view_module": "@jupyter-widgets/base",
       "_view_module_version": "1.2.0",
       "_view_name": "LayoutView",
       "align_content": null,
       "align_items": null,
       "align_self": null,
       "border": null,
       "bottom": null,
       "display": null,
       "flex": null,
       "flex_flow": null,
       "grid_area": null,
       "grid_auto_columns": null,
       "grid_auto_flow": null,
       "grid_auto_rows": null,
       "grid_column": null,
       "grid_gap": null,
       "grid_row": null,
       "grid_template_areas": null,
       "grid_template_columns": null,
       "grid_template_rows": null,
       "height": null,
       "justify_content": null,
       "justify_items": null,
       "left": null,
       "margin": null,
       "max_height": null,
       "max_width": null,
       "min_height": null,
       "min_width": null,
       "object_fit": null,
       "object_position": null,
       "order": null,
       "overflow": null,
       "overflow_x": null,
       "overflow_y": null,
       "padding": null,
       "right": null,
       "top": null,
       "visibility": null,
       "width": null
      }
     },
     "becf89d56cab48688233869687b01226": {
      "model_module": "@jupyter-widgets/controls",
      "model_module_version": "1.5.0",
      "model_name": "FloatProgressModel",
      "state": {
       "_dom_classes": [],
       "_model_module": "@jupyter-widgets/controls",
       "_model_module_version": "1.5.0",
       "_model_name": "FloatProgressModel",
       "_view_count": null,
       "_view_module": "@jupyter-widgets/controls",
       "_view_module_version": "1.5.0",
       "_view_name": "ProgressView",
       "bar_style": "success",
       "description": "",
       "description_tooltip": null,
       "layout": "IPY_MODEL_9942b557ec204ceaa85f11fafe91cb77",
       "max": 3.0,
       "min": 0.0,
       "orientation": "horizontal",
       "style": "IPY_MODEL_494cddc2fe224ecc8f6b17f2ecb7bf77",
       "value": 3.0
      }
     },
     "c5e72d65856742e58c0675ba4acda6bc": {
      "model_module": "@jupyter-widgets/base",
      "model_module_version": "1.2.0",
      "model_name": "LayoutModel",
      "state": {
       "_model_module": "@jupyter-widgets/base",
       "_model_module_version": "1.2.0",
       "_model_name": "LayoutModel",
       "_view_count": null,
       "_view_module": "@jupyter-widgets/base",
       "_view_module_version": "1.2.0",
       "_view_name": "LayoutView",
       "align_content": null,
       "align_items": null,
       "align_self": null,
       "border": null,
       "bottom": null,
       "display": null,
       "flex": null,
       "flex_flow": null,
       "grid_area": null,
       "grid_auto_columns": null,
       "grid_auto_flow": null,
       "grid_auto_rows": null,
       "grid_column": null,
       "grid_gap": null,
       "grid_row": null,
       "grid_template_areas": null,
       "grid_template_columns": null,
       "grid_template_rows": null,
       "height": null,
       "justify_content": null,
       "justify_items": null,
       "left": null,
       "margin": null,
       "max_height": null,
       "max_width": null,
       "min_height": null,
       "min_width": null,
       "object_fit": null,
       "object_position": null,
       "order": null,
       "overflow": null,
       "overflow_x": null,
       "overflow_y": null,
       "padding": null,
       "right": null,
       "top": null,
       "visibility": null,
       "width": null
      }
     },
     "e2a02a885cf5495bb0527e09cb6b7b67": {
      "model_module": "@jupyter-widgets/controls",
      "model_module_version": "1.5.0",
      "model_name": "HBoxModel",
      "state": {
       "_dom_classes": [],
       "_model_module": "@jupyter-widgets/controls",
       "_model_module_version": "1.5.0",
       "_model_name": "HBoxModel",
       "_view_count": null,
       "_view_module": "@jupyter-widgets/controls",
       "_view_module_version": "1.5.0",
       "_view_name": "HBoxView",
       "box_style": "",
       "children": [
        "IPY_MODEL_973218ff9324484b844cda950aad837b",
        "IPY_MODEL_becf89d56cab48688233869687b01226",
        "IPY_MODEL_f2488644695e467f937644d4b43e4fbb"
       ],
       "layout": "IPY_MODEL_6809019dc0a649e59431f83cd9eaac72"
      }
     },
     "f2488644695e467f937644d4b43e4fbb": {
      "model_module": "@jupyter-widgets/controls",
      "model_module_version": "1.5.0",
      "model_name": "HTMLModel",
      "state": {
       "_dom_classes": [],
       "_model_module": "@jupyter-widgets/controls",
       "_model_module_version": "1.5.0",
       "_model_name": "HTMLModel",
       "_view_count": null,
       "_view_module": "@jupyter-widgets/controls",
       "_view_module_version": "1.5.0",
       "_view_name": "HTMLView",
       "description": "",
       "description_tooltip": null,
       "layout": "IPY_MODEL_ba55feec9abf447aa654d5b06b156dc6",
       "placeholder": "​",
       "style": "IPY_MODEL_04935d969a19413d977b40f99c384052",
       "value": " 3/3 [00:00&lt;00:00, 14.49it/s]"
      }
     }
    },
    "version_major": 2,
    "version_minor": 0
   }
  }
 },
 "nbformat": 4,
 "nbformat_minor": 5
}
