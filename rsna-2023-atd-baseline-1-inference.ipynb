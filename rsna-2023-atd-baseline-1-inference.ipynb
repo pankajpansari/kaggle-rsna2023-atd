{
 "cells": [
  {
   "cell_type": "code",
   "execution_count": 1,
   "id": "4165e230",
   "metadata": {
    "execution": {
     "iopub.execute_input": "2023-09-01T12:28:10.125509Z",
     "iopub.status.busy": "2023-09-01T12:28:10.124985Z",
     "iopub.status.idle": "2023-09-01T12:28:16.567121Z",
     "shell.execute_reply": "2023-09-01T12:28:16.566123Z"
    },
    "papermill": {
     "duration": 6.453109,
     "end_time": "2023-09-01T12:28:16.569590",
     "exception": false,
     "start_time": "2023-09-01T12:28:10.116481",
     "status": "completed"
    },
    "tags": []
   },
   "outputs": [
    {
     "name": "stderr",
     "output_type": "stream",
     "text": [
      "/opt/conda/lib/python3.10/site-packages/scipy/__init__.py:146: UserWarning: A NumPy version >=1.16.5 and <1.23.0 is required for this version of SciPy (detected version 1.23.5\n",
      "  warnings.warn(f\"A NumPy version >={np_minversion} and <{np_maxversion}\"\n"
     ]
    }
   ],
   "source": [
    "import numpy as np\n",
    "import pandas as pd\n",
    "import os, random\n",
    "from fastai.vision.all import *\n",
    "import shutil\n",
    "import pydicom\n",
    "import cv2\n",
    "import glob\n",
    "\n",
    "from tqdm.notebook import tqdm\n",
    "from joblib import Parallel, delayed"
   ]
  },
  {
   "cell_type": "code",
   "execution_count": 2,
   "id": "a3a92a39",
   "metadata": {
    "execution": {
     "iopub.execute_input": "2023-09-01T12:28:16.583555Z",
     "iopub.status.busy": "2023-09-01T12:28:16.583229Z",
     "iopub.status.idle": "2023-09-01T12:28:22.064386Z",
     "shell.execute_reply": "2023-09-01T12:28:22.063344Z"
    },
    "papermill": {
     "duration": 5.490851,
     "end_time": "2023-09-01T12:28:22.066958",
     "exception": false,
     "start_time": "2023-09-01T12:28:16.576107",
     "status": "completed"
    },
    "tags": []
   },
   "outputs": [],
   "source": [
    "new_learn = load_learner('/kaggle/input/atd-baseline1-model/model.pt', cpu = False)"
   ]
  },
  {
   "cell_type": "code",
   "execution_count": 3,
   "id": "50bd4152",
   "metadata": {
    "execution": {
     "iopub.execute_input": "2023-09-01T12:28:22.081374Z",
     "iopub.status.busy": "2023-09-01T12:28:22.081084Z",
     "iopub.status.idle": "2023-09-01T12:28:36.923806Z",
     "shell.execute_reply": "2023-09-01T12:28:36.922521Z"
    },
    "papermill": {
     "duration": 14.852896,
     "end_time": "2023-09-01T12:28:36.926441",
     "exception": false,
     "start_time": "2023-09-01T12:28:22.073545",
     "status": "completed"
    },
    "tags": []
   },
   "outputs": [
    {
     "name": "stdout",
     "output_type": "stream",
     "text": [
      "Number of test patients: 2\n"
     ]
    }
   ],
   "source": [
    "#TEST_PATH = '/kaggle/input/rsna-2023-abdominal-trauma-detection/test_images/'\n",
    "TEST_PATH = '/kaggle/working/test_images/'\n",
    "SAVE_FOLDER = '/kaggle/working/test_png/'\n",
    "SIZE = 512\n",
    "EXTENSION = 'png'\n",
    "\n",
    "os.makedirs(SAVE_FOLDER, exist_ok = True)\n",
    "os.makedirs(TEST_PATH, exist_ok = True)\n",
    "!cp -r /kaggle/input/rsna-2023-abdominal-trauma-detection/train_images/10004 /kaggle/working/test_images/\n",
    "!cp -r /kaggle/input/rsna-2023-abdominal-trauma-detection/train_images/10005 /kaggle/working/test_images/\n",
    "print('Number of test patients:', len(os.listdir(TEST_PATH)))"
   ]
  },
  {
   "cell_type": "code",
   "execution_count": 4,
   "id": "30f2ba73",
   "metadata": {
    "execution": {
     "iopub.execute_input": "2023-09-01T12:28:36.941845Z",
     "iopub.status.busy": "2023-09-01T12:28:36.940885Z",
     "iopub.status.idle": "2023-09-01T12:28:36.951543Z",
     "shell.execute_reply": "2023-09-01T12:28:36.950548Z"
    },
    "papermill": {
     "duration": 0.02008,
     "end_time": "2023-09-01T12:28:36.953602",
     "exception": false,
     "start_time": "2023-09-01T12:28:36.933522",
     "status": "completed"
    },
    "tags": []
   },
   "outputs": [],
   "source": [
    "def process(patient, size = SIZE, save_folder = \"\", data_path = \"\"):\n",
    "        \n",
    "    def sub_process(patient, study, size = SIZE, save_folder = \"\", data_path = \"\"):\n",
    "        imgs = {}\n",
    "        for f in sorted(glob.glob(data_path + f\"{patient}/{study}/*.dcm\")):\n",
    "            \n",
    "            dicom = pydicom.dcmread(f)\n",
    "            pos_z = dicom[(0x20, 0x32)].value[-1]\n",
    "            \n",
    "            img = dicom.pixel_array\n",
    "            img = (img - img.min())/(img.max() - img.min() + 1e-6)\n",
    "            \n",
    "            imgs[pos_z] = img\n",
    "        \n",
    "        for i, k in enumerate(sorted(imgs.keys())):\n",
    "            \n",
    "            img = imgs[k]\n",
    "            \n",
    "            img = cv2.resize(img, (size, size))\n",
    "            cv2.imwrite(save_folder + f\"{patient}_{study}_{i}.png\", (img * 255).astype(np.uint8))\n",
    "    \n",
    "    _ = Parallel(n_jobs = 2)(\n",
    "        delayed(sub_process)(patient, study, size=512, save_folder=SAVE_FOLDER, data_path=TEST_PATH)\n",
    "        for study in tqdm(sorted(os.listdir(data_path + patient)))\n",
    "        )"
   ]
  },
  {
   "cell_type": "code",
   "execution_count": 5,
   "id": "1a8fea40",
   "metadata": {
    "execution": {
     "iopub.execute_input": "2023-09-01T12:28:36.967134Z",
     "iopub.status.busy": "2023-09-01T12:28:36.966365Z",
     "iopub.status.idle": "2023-09-01T12:28:36.971351Z",
     "shell.execute_reply": "2023-09-01T12:28:36.970372Z"
    },
    "papermill": {
     "duration": 0.013935,
     "end_time": "2023-09-01T12:28:36.973509",
     "exception": false,
     "start_time": "2023-09-01T12:28:36.959574",
     "status": "completed"
    },
    "tags": []
   },
   "outputs": [
    {
     "name": "stdout",
     "output_type": "stream",
     "text": [
      "Number of cores:  2\n"
     ]
    }
   ],
   "source": [
    "import multiprocessing\n",
    "print('Number of cores: ', multiprocessing.cpu_count())"
   ]
  },
  {
   "cell_type": "code",
   "execution_count": 6,
   "id": "de09b6b7",
   "metadata": {
    "execution": {
     "iopub.execute_input": "2023-09-01T12:28:36.987315Z",
     "iopub.status.busy": "2023-09-01T12:28:36.986552Z",
     "iopub.status.idle": "2023-09-01T12:29:32.402863Z",
     "shell.execute_reply": "2023-09-01T12:29:32.401868Z"
    },
    "papermill": {
     "duration": 55.425774,
     "end_time": "2023-09-01T12:29:32.405411",
     "exception": false,
     "start_time": "2023-09-01T12:28:36.979637",
     "status": "completed"
    },
    "tags": []
   },
   "outputs": [
    {
     "data": {
      "application/vnd.jupyter.widget-view+json": {
       "model_id": "3a13416c10c24cc997e94f2a93b54107",
       "version_major": 2,
       "version_minor": 0
      },
      "text/plain": [
       "  0%|          | 0/2 [00:00<?, ?it/s]"
      ]
     },
     "metadata": {},
     "output_type": "display_data"
    },
    {
     "data": {
      "application/vnd.jupyter.widget-view+json": {
       "model_id": "c17d949abd834d2ca8258172c7dc0ad2",
       "version_major": 2,
       "version_minor": 0
      },
      "text/plain": [
       "  0%|          | 0/1 [00:00<?, ?it/s]"
      ]
     },
     "metadata": {},
     "output_type": "display_data"
    },
    {
     "data": {
      "text/html": [
       "\n",
       "<style>\n",
       "    /* Turns off some styling */\n",
       "    progress {\n",
       "        /* gets rid of default border in Firefox and Opera. */\n",
       "        border: none;\n",
       "        /* Needs to be in here for Safari polyfill so background images work as expected. */\n",
       "        background-size: auto;\n",
       "    }\n",
       "    progress:not([value]), progress:not([value])::-webkit-progress-bar {\n",
       "        background: repeating-linear-gradient(45deg, #7e7e7e, #7e7e7e 10px, #5c5c5c 10px, #5c5c5c 20px);\n",
       "    }\n",
       "    .progress-bar-interrupted, .progress-bar-interrupted::-webkit-progress-bar {\n",
       "        background: #F44336;\n",
       "    }\n",
       "</style>\n"
      ],
      "text/plain": [
       "<IPython.core.display.HTML object>"
      ]
     },
     "metadata": {},
     "output_type": "display_data"
    },
    {
     "data": {
      "text/html": [],
      "text/plain": [
       "<IPython.core.display.HTML object>"
      ]
     },
     "metadata": {},
     "output_type": "display_data"
    },
    {
     "data": {
      "application/vnd.jupyter.widget-view+json": {
       "model_id": "e6765e00a69b4243a7347c61bb6461f9",
       "version_major": 2,
       "version_minor": 0
      },
      "text/plain": [
       "  0%|          | 0/2 [00:00<?, ?it/s]"
      ]
     },
     "metadata": {},
     "output_type": "display_data"
    },
    {
     "data": {
      "text/html": [
       "\n",
       "<style>\n",
       "    /* Turns off some styling */\n",
       "    progress {\n",
       "        /* gets rid of default border in Firefox and Opera. */\n",
       "        border: none;\n",
       "        /* Needs to be in here for Safari polyfill so background images work as expected. */\n",
       "        background-size: auto;\n",
       "    }\n",
       "    progress:not([value]), progress:not([value])::-webkit-progress-bar {\n",
       "        background: repeating-linear-gradient(45deg, #7e7e7e, #7e7e7e 10px, #5c5c5c 10px, #5c5c5c 20px);\n",
       "    }\n",
       "    .progress-bar-interrupted, .progress-bar-interrupted::-webkit-progress-bar {\n",
       "        background: #F44336;\n",
       "    }\n",
       "</style>\n"
      ],
      "text/plain": [
       "<IPython.core.display.HTML object>"
      ]
     },
     "metadata": {},
     "output_type": "display_data"
    },
    {
     "data": {
      "text/html": [],
      "text/plain": [
       "<IPython.core.display.HTML object>"
      ]
     },
     "metadata": {},
     "output_type": "display_data"
    }
   ],
   "source": [
    "patients = os.listdir(TEST_PATH)\n",
    "\n",
    "# _ = Parallel(n_jobs = 2)(\n",
    "#    delayed(process)(patient, size=512, save_folder=SAVE_FOLDER, data_path=TEST_PATH)\n",
    "#    for patient in tqdm(patients)\n",
    "# )\n",
    " \n",
    "preds_list = []\n",
    "fnames_list = []\n",
    "\n",
    "for patient in tqdm(patients):\n",
    "    process(patient, size=512, save_folder=SAVE_FOLDER, data_path=TEST_PATH)\n",
    "    files = get_image_files(SAVE_FOLDER)\n",
    "    \n",
    "    test_dl = new_learn.dls.test_dl(files, with_labels = False)\n",
    "    test_dl.batch_size = 256\n",
    "\n",
    "    preds_list.append(new_learn.get_preds(dl = test_dl)[0].numpy()) \n",
    "    fnames_list.append(files)\n",
    "    for file in files:\n",
    "        os.remove(file)\n",
    "\n",
    "#files = get_image_files(SAVE_FOLDER)"
   ]
  },
  {
   "cell_type": "code",
   "execution_count": 7,
   "id": "9f271749",
   "metadata": {
    "execution": {
     "iopub.execute_input": "2023-09-01T12:29:32.428463Z",
     "iopub.status.busy": "2023-09-01T12:29:32.428094Z",
     "iopub.status.idle": "2023-09-01T12:29:32.432762Z",
     "shell.execute_reply": "2023-09-01T12:29:32.431956Z"
    },
    "papermill": {
     "duration": 0.020086,
     "end_time": "2023-09-01T12:29:32.436670",
     "exception": false,
     "start_time": "2023-09-01T12:29:32.416584",
     "status": "completed"
    },
    "tags": []
   },
   "outputs": [],
   "source": [
    "#test_dl = new_learn.dls.test_dl(files, with_labels = False)\n",
    "#test_dl.batch_size = 256\n",
    "\n",
    "#preds = new_learn.get_preds(dl = test_dl)[0].numpy()"
   ]
  },
  {
   "cell_type": "code",
   "execution_count": 8,
   "id": "ca3454a5",
   "metadata": {
    "execution": {
     "iopub.execute_input": "2023-09-01T12:29:32.458539Z",
     "iopub.status.busy": "2023-09-01T12:29:32.458194Z",
     "iopub.status.idle": "2023-09-01T12:29:32.463389Z",
     "shell.execute_reply": "2023-09-01T12:29:32.462584Z"
    },
    "papermill": {
     "duration": 0.020175,
     "end_time": "2023-09-01T12:29:32.467326",
     "exception": false,
     "start_time": "2023-09-01T12:29:32.447151",
     "status": "completed"
    },
    "tags": []
   },
   "outputs": [],
   "source": [
    "for idx, arr in enumerate(preds_list):\n",
    "    if idx == 0:\n",
    "        preds = arr\n",
    "    else:\n",
    "        preds = np.concatenate((preds, arr))"
   ]
  },
  {
   "cell_type": "code",
   "execution_count": 9,
   "id": "986eb15f",
   "metadata": {
    "execution": {
     "iopub.execute_input": "2023-09-01T12:29:32.489619Z",
     "iopub.status.busy": "2023-09-01T12:29:32.489293Z",
     "iopub.status.idle": "2023-09-01T12:29:32.493650Z",
     "shell.execute_reply": "2023-09-01T12:29:32.492834Z"
    },
    "papermill": {
     "duration": 0.01961,
     "end_time": "2023-09-01T12:29:32.497551",
     "exception": false,
     "start_time": "2023-09-01T12:29:32.477941",
     "status": "completed"
    },
    "tags": []
   },
   "outputs": [],
   "source": [
    "from itertools import chain\n",
    "fnames_list = list(chain.from_iterable(fnames_list))"
   ]
  },
  {
   "cell_type": "code",
   "execution_count": 10,
   "id": "55546394",
   "metadata": {
    "execution": {
     "iopub.execute_input": "2023-09-01T12:29:32.519028Z",
     "iopub.status.busy": "2023-09-01T12:29:32.518728Z",
     "iopub.status.idle": "2023-09-01T12:29:32.557836Z",
     "shell.execute_reply": "2023-09-01T12:29:32.557044Z"
    },
    "papermill": {
     "duration": 0.052649,
     "end_time": "2023-09-01T12:29:32.560312",
     "exception": false,
     "start_time": "2023-09-01T12:29:32.507663",
     "status": "completed"
    },
    "tags": []
   },
   "outputs": [],
   "source": [
    "test_files_probs = pd.DataFrame()\n",
    "\n",
    "test_files_probs['fname'] = pd.Series(fnames_list, dtype = 'string')\n",
    "\n",
    "test_files_probs['bowel_healthy'] = pd.Series(1 - preds[:, 0])\n",
    "test_files_probs['bowel_injury'] = pd.Series(preds[:, 0])\n",
    "test_files_probs['extravasation_healthy'] = pd.Series(1 - preds[:, 1])\n",
    "test_files_probs['extravasation_injury'] = pd.Series(preds[:, 1])\n",
    "test_files_probs['extravasation_healthy'] = pd.Series(1 - preds[:, 1])\n",
    "test_files_probs['kidney_healthy'] = pd.Series(1 - preds[:, 2])\n",
    "test_files_probs['kidney_low'] = pd.Series(preds[:, 2]/2)\n",
    "test_files_probs['kidney_high'] = pd.Series(preds[:, 2]/2)\n",
    "test_files_probs['liver_healthy'] = pd.Series(1 - preds[:, 3])\n",
    "test_files_probs['liver_low'] = pd.Series(preds[:, 3]/2)\n",
    "test_files_probs['liver_high'] = pd.Series(preds[:, 3]/2)\n",
    "test_files_probs['spleen_healthy'] = pd.Series(1 - preds[:, 4])\n",
    "test_files_probs['spleen_low'] = pd.Series(preds[:, 4]/2)\n",
    "test_files_probs['spleen_high'] = pd.Series(preds[:, 4]/2)\n",
    "\n",
    "#test_files_probs"
   ]
  },
  {
   "cell_type": "code",
   "execution_count": 11,
   "id": "830d67fc",
   "metadata": {
    "execution": {
     "iopub.execute_input": "2023-09-01T12:29:32.581975Z",
     "iopub.status.busy": "2023-09-01T12:29:32.581671Z",
     "iopub.status.idle": "2023-09-01T12:29:32.596633Z",
     "shell.execute_reply": "2023-09-01T12:29:32.595835Z"
    },
    "papermill": {
     "duration": 0.028413,
     "end_time": "2023-09-01T12:29:32.599108",
     "exception": false,
     "start_time": "2023-09-01T12:29:32.570695",
     "status": "completed"
    },
    "tags": []
   },
   "outputs": [],
   "source": [
    "patient_id_list = []\n",
    "for idx, fname in enumerate(test_files_probs['fname']):\n",
    "    patient_id_list.append(fname.split('/')[-1].split('_')[0])\n",
    "    \n",
    "test_files_probs['patient_id'] = pd.Series(patient_id_list, dtype = 'string')\n",
    "#test_files_probs"
   ]
  },
  {
   "cell_type": "code",
   "execution_count": 12,
   "id": "36ec80af",
   "metadata": {
    "execution": {
     "iopub.execute_input": "2023-09-01T12:29:32.620794Z",
     "iopub.status.busy": "2023-09-01T12:29:32.620492Z",
     "iopub.status.idle": "2023-09-01T12:29:32.627555Z",
     "shell.execute_reply": "2023-09-01T12:29:32.626719Z"
    },
    "papermill": {
     "duration": 0.021613,
     "end_time": "2023-09-01T12:29:32.631249",
     "exception": false,
     "start_time": "2023-09-01T12:29:32.609636",
     "status": "completed"
    },
    "tags": []
   },
   "outputs": [],
   "source": [
    "test_files_probs = test_files_probs.drop('fname', axis = 1)"
   ]
  },
  {
   "cell_type": "code",
   "execution_count": 13,
   "id": "05e76d67",
   "metadata": {
    "execution": {
     "iopub.execute_input": "2023-09-01T12:29:32.652904Z",
     "iopub.status.busy": "2023-09-01T12:29:32.652601Z",
     "iopub.status.idle": "2023-09-01T12:29:32.689549Z",
     "shell.execute_reply": "2023-09-01T12:29:32.688758Z"
    },
    "papermill": {
     "duration": 0.050273,
     "end_time": "2023-09-01T12:29:32.692014",
     "exception": false,
     "start_time": "2023-09-01T12:29:32.641741",
     "status": "completed"
    },
    "tags": []
   },
   "outputs": [
    {
     "data": {
      "text/html": [
       "<div>\n",
       "<style scoped>\n",
       "    .dataframe tbody tr th:only-of-type {\n",
       "        vertical-align: middle;\n",
       "    }\n",
       "\n",
       "    .dataframe tbody tr th {\n",
       "        vertical-align: top;\n",
       "    }\n",
       "\n",
       "    .dataframe thead th {\n",
       "        text-align: right;\n",
       "    }\n",
       "</style>\n",
       "<table border=\"1\" class=\"dataframe\">\n",
       "  <thead>\n",
       "    <tr style=\"text-align: right;\">\n",
       "      <th></th>\n",
       "      <th>patient_id</th>\n",
       "      <th>bowel_healthy</th>\n",
       "      <th>bowel_injury</th>\n",
       "      <th>extravasation_healthy</th>\n",
       "      <th>extravasation_injury</th>\n",
       "      <th>kidney_healthy</th>\n",
       "      <th>kidney_low</th>\n",
       "      <th>kidney_high</th>\n",
       "      <th>liver_healthy</th>\n",
       "      <th>liver_low</th>\n",
       "      <th>liver_high</th>\n",
       "      <th>spleen_healthy</th>\n",
       "      <th>spleen_low</th>\n",
       "      <th>spleen_high</th>\n",
       "    </tr>\n",
       "  </thead>\n",
       "  <tbody>\n",
       "    <tr>\n",
       "      <th>0</th>\n",
       "      <td>10004</td>\n",
       "      <td>0.990216</td>\n",
       "      <td>0.844152</td>\n",
       "      <td>0.984456</td>\n",
       "      <td>0.855610</td>\n",
       "      <td>0.946990</td>\n",
       "      <td>0.486620</td>\n",
       "      <td>0.486620</td>\n",
       "      <td>0.966347</td>\n",
       "      <td>0.432327</td>\n",
       "      <td>0.432327</td>\n",
       "      <td>0.712732</td>\n",
       "      <td>0.496667</td>\n",
       "      <td>0.496667</td>\n",
       "    </tr>\n",
       "    <tr>\n",
       "      <th>1</th>\n",
       "      <td>10005</td>\n",
       "      <td>0.699357</td>\n",
       "      <td>0.892937</td>\n",
       "      <td>0.648911</td>\n",
       "      <td>0.805173</td>\n",
       "      <td>0.931711</td>\n",
       "      <td>0.286092</td>\n",
       "      <td>0.286092</td>\n",
       "      <td>0.873215</td>\n",
       "      <td>0.258282</td>\n",
       "      <td>0.258282</td>\n",
       "      <td>0.530343</td>\n",
       "      <td>0.481476</td>\n",
       "      <td>0.481476</td>\n",
       "    </tr>\n",
       "  </tbody>\n",
       "</table>\n",
       "</div>"
      ],
      "text/plain": [
       "  patient_id  bowel_healthy  bowel_injury  extravasation_healthy  \\\n",
       "0      10004       0.990216      0.844152               0.984456   \n",
       "1      10005       0.699357      0.892937               0.648911   \n",
       "\n",
       "   extravasation_injury  kidney_healthy  kidney_low  kidney_high  \\\n",
       "0              0.855610        0.946990    0.486620     0.486620   \n",
       "1              0.805173        0.931711    0.286092     0.286092   \n",
       "\n",
       "   liver_healthy  liver_low  liver_high  spleen_healthy  spleen_low  \\\n",
       "0       0.966347   0.432327    0.432327        0.712732    0.496667   \n",
       "1       0.873215   0.258282    0.258282        0.530343    0.481476   \n",
       "\n",
       "   spleen_high  \n",
       "0     0.496667  \n",
       "1     0.481476  "
      ]
     },
     "execution_count": 13,
     "metadata": {},
     "output_type": "execute_result"
    }
   ],
   "source": [
    "x = test_files_probs.groupby('patient_id').max()\n",
    "\n",
    "x.insert(0, 'patient_id', x.index)\n",
    "\n",
    "x = x.reset_index(drop = True)\n",
    "x"
   ]
  },
  {
   "cell_type": "code",
   "execution_count": 14,
   "id": "589a0810",
   "metadata": {
    "execution": {
     "iopub.execute_input": "2023-09-01T12:29:32.715451Z",
     "iopub.status.busy": "2023-09-01T12:29:32.715125Z",
     "iopub.status.idle": "2023-09-01T12:29:32.726318Z",
     "shell.execute_reply": "2023-09-01T12:29:32.725485Z"
    },
    "papermill": {
     "duration": 0.025375,
     "end_time": "2023-09-01T12:29:32.728857",
     "exception": false,
     "start_time": "2023-09-01T12:29:32.703482",
     "status": "completed"
    },
    "tags": []
   },
   "outputs": [],
   "source": [
    "x.to_csv('submission.csv', header = True, index = False)"
   ]
  },
  {
   "cell_type": "code",
   "execution_count": null,
   "id": "842ce3a5",
   "metadata": {
    "papermill": {
     "duration": 0.010142,
     "end_time": "2023-09-01T12:29:32.749373",
     "exception": false,
     "start_time": "2023-09-01T12:29:32.739231",
     "status": "completed"
    },
    "tags": []
   },
   "outputs": [],
   "source": []
  }
 ],
 "kernelspec": {
  "display_name": "Python 3",
  "language": "python",
  "name": "python3"
 },
 "language_info": {
  "codemirror_mode": {
   "name": "ipython",
   "version": 3
  },
  "file_extension": ".py",
  "mimetype": "text/x-python",
  "name": "python",
  "nbconvert_exporter": "python",
  "pygments_lexer": "ipython3",
  "version": "3.6.4"
 },
 "metadata": {
  "kernelspec": {
   "display_name": "Python 3",
   "language": "python",
   "name": "python3"
  },
  "language_info": {
   "codemirror_mode": {
    "name": "ipython",
    "version": 3
   },
   "file_extension": ".py",
   "mimetype": "text/x-python",
   "name": "python",
   "nbconvert_exporter": "python",
   "pygments_lexer": "ipython3",
   "version": "3.10.12"
  },
  "papermill": {
   "default_parameters": {},
   "duration": 95.45369,
   "end_time": "2023-09-01T12:29:35.597478",
   "environment_variables": {},
   "exception": null,
   "input_path": "__notebook__.ipynb",
   "output_path": "__notebook__.ipynb",
   "parameters": {},
   "start_time": "2023-09-01T12:28:00.143788",
   "version": "2.4.0"
  },
  "widgets": {
   "application/vnd.jupyter.widget-state+json": {
    "state": {
     "0391c32f0b71405d92344c25f79329b1": {
      "model_module": "@jupyter-widgets/base",
      "model_module_version": "1.2.0",
      "model_name": "LayoutModel",
      "state": {
       "_model_module": "@jupyter-widgets/base",
       "_model_module_version": "1.2.0",
       "_model_name": "LayoutModel",
       "_view_count": null,
       "_view_module": "@jupyter-widgets/base",
       "_view_module_version": "1.2.0",
       "_view_name": "LayoutView",
       "align_content": null,
       "align_items": null,
       "align_self": null,
       "border": null,
       "bottom": null,
       "display": null,
       "flex": null,
       "flex_flow": null,
       "grid_area": null,
       "grid_auto_columns": null,
       "grid_auto_flow": null,
       "grid_auto_rows": null,
       "grid_column": null,
       "grid_gap": null,
       "grid_row": null,
       "grid_template_areas": null,
       "grid_template_columns": null,
       "grid_template_rows": null,
       "height": null,
       "justify_content": null,
       "justify_items": null,
       "left": null,
       "margin": null,
       "max_height": null,
       "max_width": null,
       "min_height": null,
       "min_width": null,
       "object_fit": null,
       "object_position": null,
       "order": null,
       "overflow": null,
       "overflow_x": null,
       "overflow_y": null,
       "padding": null,
       "right": null,
       "top": null,
       "visibility": null,
       "width": null
      }
     },
     "079dc9b16fcd41b7b51e310f8a28c1a3": {
      "model_module": "@jupyter-widgets/base",
      "model_module_version": "1.2.0",
      "model_name": "LayoutModel",
      "state": {
       "_model_module": "@jupyter-widgets/base",
       "_model_module_version": "1.2.0",
       "_model_name": "LayoutModel",
       "_view_count": null,
       "_view_module": "@jupyter-widgets/base",
       "_view_module_version": "1.2.0",
       "_view_name": "LayoutView",
       "align_content": null,
       "align_items": null,
       "align_self": null,
       "border": null,
       "bottom": null,
       "display": null,
       "flex": null,
       "flex_flow": null,
       "grid_area": null,
       "grid_auto_columns": null,
       "grid_auto_flow": null,
       "grid_auto_rows": null,
       "grid_column": null,
       "grid_gap": null,
       "grid_row": null,
       "grid_template_areas": null,
       "grid_template_columns": null,
       "grid_template_rows": null,
       "height": null,
       "justify_content": null,
       "justify_items": null,
       "left": null,
       "margin": null,
       "max_height": null,
       "max_width": null,
       "min_height": null,
       "min_width": null,
       "object_fit": null,
       "object_position": null,
       "order": null,
       "overflow": null,
       "overflow_x": null,
       "overflow_y": null,
       "padding": null,
       "right": null,
       "top": null,
       "visibility": null,
       "width": null
      }
     },
     "1884a7bf5f0b4bb9acf1d03b9b13a2ef": {
      "model_module": "@jupyter-widgets/base",
      "model_module_version": "1.2.0",
      "model_name": "LayoutModel",
      "state": {
       "_model_module": "@jupyter-widgets/base",
       "_model_module_version": "1.2.0",
       "_model_name": "LayoutModel",
       "_view_count": null,
       "_view_module": "@jupyter-widgets/base",
       "_view_module_version": "1.2.0",
       "_view_name": "LayoutView",
       "align_content": null,
       "align_items": null,
       "align_self": null,
       "border": null,
       "bottom": null,
       "display": null,
       "flex": null,
       "flex_flow": null,
       "grid_area": null,
       "grid_auto_columns": null,
       "grid_auto_flow": null,
       "grid_auto_rows": null,
       "grid_column": null,
       "grid_gap": null,
       "grid_row": null,
       "grid_template_areas": null,
       "grid_template_columns": null,
       "grid_template_rows": null,
       "height": null,
       "justify_content": null,
       "justify_items": null,
       "left": null,
       "margin": null,
       "max_height": null,
       "max_width": null,
       "min_height": null,
       "min_width": null,
       "object_fit": null,
       "object_position": null,
       "order": null,
       "overflow": null,
       "overflow_x": null,
       "overflow_y": null,
       "padding": null,
       "right": null,
       "top": null,
       "visibility": null,
       "width": null
      }
     },
     "1c495dea29f840ab8a74edb3d53a4693": {
      "model_module": "@jupyter-widgets/controls",
      "model_module_version": "1.5.0",
      "model_name": "DescriptionStyleModel",
      "state": {
       "_model_module": "@jupyter-widgets/controls",
       "_model_module_version": "1.5.0",
       "_model_name": "DescriptionStyleModel",
       "_view_count": null,
       "_view_module": "@jupyter-widgets/base",
       "_view_module_version": "1.2.0",
       "_view_name": "StyleView",
       "description_width": ""
      }
     },
     "2400a3b6243746f2897b21903554f5ce": {
      "model_module": "@jupyter-widgets/controls",
      "model_module_version": "1.5.0",
      "model_name": "DescriptionStyleModel",
      "state": {
       "_model_module": "@jupyter-widgets/controls",
       "_model_module_version": "1.5.0",
       "_model_name": "DescriptionStyleModel",
       "_view_count": null,
       "_view_module": "@jupyter-widgets/base",
       "_view_module_version": "1.2.0",
       "_view_name": "StyleView",
       "description_width": ""
      }
     },
     "2413439e540e4faba8b5d2513dc35d02": {
      "model_module": "@jupyter-widgets/base",
      "model_module_version": "1.2.0",
      "model_name": "LayoutModel",
      "state": {
       "_model_module": "@jupyter-widgets/base",
       "_model_module_version": "1.2.0",
       "_model_name": "LayoutModel",
       "_view_count": null,
       "_view_module": "@jupyter-widgets/base",
       "_view_module_version": "1.2.0",
       "_view_name": "LayoutView",
       "align_content": null,
       "align_items": null,
       "align_self": null,
       "border": null,
       "bottom": null,
       "display": null,
       "flex": null,
       "flex_flow": null,
       "grid_area": null,
       "grid_auto_columns": null,
       "grid_auto_flow": null,
       "grid_auto_rows": null,
       "grid_column": null,
       "grid_gap": null,
       "grid_row": null,
       "grid_template_areas": null,
       "grid_template_columns": null,
       "grid_template_rows": null,
       "height": null,
       "justify_content": null,
       "justify_items": null,
       "left": null,
       "margin": null,
       "max_height": null,
       "max_width": null,
       "min_height": null,
       "min_width": null,
       "object_fit": null,
       "object_position": null,
       "order": null,
       "overflow": null,
       "overflow_x": null,
       "overflow_y": null,
       "padding": null,
       "right": null,
       "top": null,
       "visibility": null,
       "width": null
      }
     },
     "26a49c19d0a347988a3fcbf2fd79077a": {
      "model_module": "@jupyter-widgets/controls",
      "model_module_version": "1.5.0",
      "model_name": "ProgressStyleModel",
      "state": {
       "_model_module": "@jupyter-widgets/controls",
       "_model_module_version": "1.5.0",
       "_model_name": "ProgressStyleModel",
       "_view_count": null,
       "_view_module": "@jupyter-widgets/base",
       "_view_module_version": "1.2.0",
       "_view_name": "StyleView",
       "bar_color": null,
       "description_width": ""
      }
     },
     "3a13416c10c24cc997e94f2a93b54107": {
      "model_module": "@jupyter-widgets/controls",
      "model_module_version": "1.5.0",
      "model_name": "HBoxModel",
      "state": {
       "_dom_classes": [],
       "_model_module": "@jupyter-widgets/controls",
       "_model_module_version": "1.5.0",
       "_model_name": "HBoxModel",
       "_view_count": null,
       "_view_module": "@jupyter-widgets/controls",
       "_view_module_version": "1.5.0",
       "_view_name": "HBoxView",
       "box_style": "",
       "children": [
        "IPY_MODEL_a2ff6c0a346a4e9aa7339b3d588769df",
        "IPY_MODEL_a5e54703294f4986b0807eeaaf0200c8",
        "IPY_MODEL_44784808554e49c3a0bb082554d027ee"
       ],
       "layout": "IPY_MODEL_ca8ab5d193d14595b046016494dd4ad7"
      }
     },
     "3cfaf4bd6dae4e13930856dbf881d0e4": {
      "model_module": "@jupyter-widgets/base",
      "model_module_version": "1.2.0",
      "model_name": "LayoutModel",
      "state": {
       "_model_module": "@jupyter-widgets/base",
       "_model_module_version": "1.2.0",
       "_model_name": "LayoutModel",
       "_view_count": null,
       "_view_module": "@jupyter-widgets/base",
       "_view_module_version": "1.2.0",
       "_view_name": "LayoutView",
       "align_content": null,
       "align_items": null,
       "align_self": null,
       "border": null,
       "bottom": null,
       "display": null,
       "flex": null,
       "flex_flow": null,
       "grid_area": null,
       "grid_auto_columns": null,
       "grid_auto_flow": null,
       "grid_auto_rows": null,
       "grid_column": null,
       "grid_gap": null,
       "grid_row": null,
       "grid_template_areas": null,
       "grid_template_columns": null,
       "grid_template_rows": null,
       "height": null,
       "justify_content": null,
       "justify_items": null,
       "left": null,
       "margin": null,
       "max_height": null,
       "max_width": null,
       "min_height": null,
       "min_width": null,
       "object_fit": null,
       "object_position": null,
       "order": null,
       "overflow": null,
       "overflow_x": null,
       "overflow_y": null,
       "padding": null,
       "right": null,
       "top": null,
       "visibility": null,
       "width": null
      }
     },
     "42f48cffd25046b0ba9d7c5aefdb490a": {
      "model_module": "@jupyter-widgets/controls",
      "model_module_version": "1.5.0",
      "model_name": "HTMLModel",
      "state": {
       "_dom_classes": [],
       "_model_module": "@jupyter-widgets/controls",
       "_model_module_version": "1.5.0",
       "_model_name": "HTMLModel",
       "_view_count": null,
       "_view_module": "@jupyter-widgets/controls",
       "_view_module_version": "1.5.0",
       "_view_name": "HTMLView",
       "description": "",
       "description_tooltip": null,
       "layout": "IPY_MODEL_e48f8f6c1cad4507983b5ba3a2d6e95a",
       "placeholder": "​",
       "style": "IPY_MODEL_2400a3b6243746f2897b21903554f5ce",
       "value": " 1/1 [00:00&lt;00:00, 22.54it/s]"
      }
     },
     "44784808554e49c3a0bb082554d027ee": {
      "model_module": "@jupyter-widgets/controls",
      "model_module_version": "1.5.0",
      "model_name": "HTMLModel",
      "state": {
       "_dom_classes": [],
       "_model_module": "@jupyter-widgets/controls",
       "_model_module_version": "1.5.0",
       "_model_name": "HTMLModel",
       "_view_count": null,
       "_view_module": "@jupyter-widgets/controls",
       "_view_module_version": "1.5.0",
       "_view_name": "HTMLView",
       "description": "",
       "description_tooltip": null,
       "layout": "IPY_MODEL_2413439e540e4faba8b5d2513dc35d02",
       "placeholder": "​",
       "style": "IPY_MODEL_bcaab4388feb4ea9985768e0fb1143b3",
       "value": " 2/2 [00:55&lt;00:00, 30.99s/it]"
      }
     },
     "461d1aa0815045b0963e18abea0f1ac4": {
      "model_module": "@jupyter-widgets/base",
      "model_module_version": "1.2.0",
      "model_name": "LayoutModel",
      "state": {
       "_model_module": "@jupyter-widgets/base",
       "_model_module_version": "1.2.0",
       "_model_name": "LayoutModel",
       "_view_count": null,
       "_view_module": "@jupyter-widgets/base",
       "_view_module_version": "1.2.0",
       "_view_name": "LayoutView",
       "align_content": null,
       "align_items": null,
       "align_self": null,
       "border": null,
       "bottom": null,
       "display": null,
       "flex": null,
       "flex_flow": null,
       "grid_area": null,
       "grid_auto_columns": null,
       "grid_auto_flow": null,
       "grid_auto_rows": null,
       "grid_column": null,
       "grid_gap": null,
       "grid_row": null,
       "grid_template_areas": null,
       "grid_template_columns": null,
       "grid_template_rows": null,
       "height": null,
       "justify_content": null,
       "justify_items": null,
       "left": null,
       "margin": null,
       "max_height": null,
       "max_width": null,
       "min_height": null,
       "min_width": null,
       "object_fit": null,
       "object_position": null,
       "order": null,
       "overflow": null,
       "overflow_x": null,
       "overflow_y": null,
       "padding": null,
       "right": null,
       "top": null,
       "visibility": null,
       "width": null
      }
     },
     "4ab4cce99ffe49a89a1180836601b42f": {
      "model_module": "@jupyter-widgets/controls",
      "model_module_version": "1.5.0",
      "model_name": "HTMLModel",
      "state": {
       "_dom_classes": [],
       "_model_module": "@jupyter-widgets/controls",
       "_model_module_version": "1.5.0",
       "_model_name": "HTMLModel",
       "_view_count": null,
       "_view_module": "@jupyter-widgets/controls",
       "_view_module_version": "1.5.0",
       "_view_name": "HTMLView",
       "description": "",
       "description_tooltip": null,
       "layout": "IPY_MODEL_3cfaf4bd6dae4e13930856dbf881d0e4",
       "placeholder": "​",
       "style": "IPY_MODEL_1c495dea29f840ab8a74edb3d53a4693",
       "value": " 2/2 [00:00&lt;00:00, 72.88it/s]"
      }
     },
     "5023722e0d604888ba23f4a2b090d5d7": {
      "model_module": "@jupyter-widgets/controls",
      "model_module_version": "1.5.0",
      "model_name": "DescriptionStyleModel",
      "state": {
       "_model_module": "@jupyter-widgets/controls",
       "_model_module_version": "1.5.0",
       "_model_name": "DescriptionStyleModel",
       "_view_count": null,
       "_view_module": "@jupyter-widgets/base",
       "_view_module_version": "1.2.0",
       "_view_name": "StyleView",
       "description_width": ""
      }
     },
     "52cd5226b1c54f778323f56d63efbdd6": {
      "model_module": "@jupyter-widgets/base",
      "model_module_version": "1.2.0",
      "model_name": "LayoutModel",
      "state": {
       "_model_module": "@jupyter-widgets/base",
       "_model_module_version": "1.2.0",
       "_model_name": "LayoutModel",
       "_view_count": null,
       "_view_module": "@jupyter-widgets/base",
       "_view_module_version": "1.2.0",
       "_view_name": "LayoutView",
       "align_content": null,
       "align_items": null,
       "align_self": null,
       "border": null,
       "bottom": null,
       "display": null,
       "flex": null,
       "flex_flow": null,
       "grid_area": null,
       "grid_auto_columns": null,
       "grid_auto_flow": null,
       "grid_auto_rows": null,
       "grid_column": null,
       "grid_gap": null,
       "grid_row": null,
       "grid_template_areas": null,
       "grid_template_columns": null,
       "grid_template_rows": null,
       "height": null,
       "justify_content": null,
       "justify_items": null,
       "left": null,
       "margin": null,
       "max_height": null,
       "max_width": null,
       "min_height": null,
       "min_width": null,
       "object_fit": null,
       "object_position": null,
       "order": null,
       "overflow": null,
       "overflow_x": null,
       "overflow_y": null,
       "padding": null,
       "right": null,
       "top": null,
       "visibility": null,
       "width": null
      }
     },
     "59455493780a4065847117c8730bcbdb": {
      "model_module": "@jupyter-widgets/controls",
      "model_module_version": "1.5.0",
      "model_name": "DescriptionStyleModel",
      "state": {
       "_model_module": "@jupyter-widgets/controls",
       "_model_module_version": "1.5.0",
       "_model_name": "DescriptionStyleModel",
       "_view_count": null,
       "_view_module": "@jupyter-widgets/base",
       "_view_module_version": "1.2.0",
       "_view_name": "StyleView",
       "description_width": ""
      }
     },
     "6acb0ce139d4485faaabb0263bf12b40": {
      "model_module": "@jupyter-widgets/controls",
      "model_module_version": "1.5.0",
      "model_name": "DescriptionStyleModel",
      "state": {
       "_model_module": "@jupyter-widgets/controls",
       "_model_module_version": "1.5.0",
       "_model_name": "DescriptionStyleModel",
       "_view_count": null,
       "_view_module": "@jupyter-widgets/base",
       "_view_module_version": "1.2.0",
       "_view_name": "StyleView",
       "description_width": ""
      }
     },
     "864204d1a9564e66afa331d68df5641f": {
      "model_module": "@jupyter-widgets/controls",
      "model_module_version": "1.5.0",
      "model_name": "ProgressStyleModel",
      "state": {
       "_model_module": "@jupyter-widgets/controls",
       "_model_module_version": "1.5.0",
       "_model_name": "ProgressStyleModel",
       "_view_count": null,
       "_view_module": "@jupyter-widgets/base",
       "_view_module_version": "1.2.0",
       "_view_name": "StyleView",
       "bar_color": null,
       "description_width": ""
      }
     },
     "a2ff6c0a346a4e9aa7339b3d588769df": {
      "model_module": "@jupyter-widgets/controls",
      "model_module_version": "1.5.0",
      "model_name": "HTMLModel",
      "state": {
       "_dom_classes": [],
       "_model_module": "@jupyter-widgets/controls",
       "_model_module_version": "1.5.0",
       "_model_name": "HTMLModel",
       "_view_count": null,
       "_view_module": "@jupyter-widgets/controls",
       "_view_module_version": "1.5.0",
       "_view_name": "HTMLView",
       "description": "",
       "description_tooltip": null,
       "layout": "IPY_MODEL_461d1aa0815045b0963e18abea0f1ac4",
       "placeholder": "​",
       "style": "IPY_MODEL_5023722e0d604888ba23f4a2b090d5d7",
       "value": "100%"
      }
     },
     "a5e54703294f4986b0807eeaaf0200c8": {
      "model_module": "@jupyter-widgets/controls",
      "model_module_version": "1.5.0",
      "model_name": "FloatProgressModel",
      "state": {
       "_dom_classes": [],
       "_model_module": "@jupyter-widgets/controls",
       "_model_module_version": "1.5.0",
       "_model_name": "FloatProgressModel",
       "_view_count": null,
       "_view_module": "@jupyter-widgets/controls",
       "_view_module_version": "1.5.0",
       "_view_name": "ProgressView",
       "bar_style": "success",
       "description": "",
       "description_tooltip": null,
       "layout": "IPY_MODEL_f345f6138ef8427b9870469b88a58ff1",
       "max": 2.0,
       "min": 0.0,
       "orientation": "horizontal",
       "style": "IPY_MODEL_26a49c19d0a347988a3fcbf2fd79077a",
       "value": 2.0
      }
     },
     "baf2947cb17f4f368997d673223987be": {
      "model_module": "@jupyter-widgets/base",
      "model_module_version": "1.2.0",
      "model_name": "LayoutModel",
      "state": {
       "_model_module": "@jupyter-widgets/base",
       "_model_module_version": "1.2.0",
       "_model_name": "LayoutModel",
       "_view_count": null,
       "_view_module": "@jupyter-widgets/base",
       "_view_module_version": "1.2.0",
       "_view_name": "LayoutView",
       "align_content": null,
       "align_items": null,
       "align_self": null,
       "border": null,
       "bottom": null,
       "display": null,
       "flex": null,
       "flex_flow": null,
       "grid_area": null,
       "grid_auto_columns": null,
       "grid_auto_flow": null,
       "grid_auto_rows": null,
       "grid_column": null,
       "grid_gap": null,
       "grid_row": null,
       "grid_template_areas": null,
       "grid_template_columns": null,
       "grid_template_rows": null,
       "height": null,
       "justify_content": null,
       "justify_items": null,
       "left": null,
       "margin": null,
       "max_height": null,
       "max_width": null,
       "min_height": null,
       "min_width": null,
       "object_fit": null,
       "object_position": null,
       "order": null,
       "overflow": null,
       "overflow_x": null,
       "overflow_y": null,
       "padding": null,
       "right": null,
       "top": null,
       "visibility": null,
       "width": null
      }
     },
     "bcaab4388feb4ea9985768e0fb1143b3": {
      "model_module": "@jupyter-widgets/controls",
      "model_module_version": "1.5.0",
      "model_name": "DescriptionStyleModel",
      "state": {
       "_model_module": "@jupyter-widgets/controls",
       "_model_module_version": "1.5.0",
       "_model_name": "DescriptionStyleModel",
       "_view_count": null,
       "_view_module": "@jupyter-widgets/base",
       "_view_module_version": "1.2.0",
       "_view_name": "StyleView",
       "description_width": ""
      }
     },
     "c17d949abd834d2ca8258172c7dc0ad2": {
      "model_module": "@jupyter-widgets/controls",
      "model_module_version": "1.5.0",
      "model_name": "HBoxModel",
      "state": {
       "_dom_classes": [],
       "_model_module": "@jupyter-widgets/controls",
       "_model_module_version": "1.5.0",
       "_model_name": "HBoxModel",
       "_view_count": null,
       "_view_module": "@jupyter-widgets/controls",
       "_view_module_version": "1.5.0",
       "_view_name": "HBoxView",
       "box_style": "",
       "children": [
        "IPY_MODEL_ffe77824876b41d7bf1924bbed1330c0",
        "IPY_MODEL_d728904cdbfe48d5aa15d99214dbdb31",
        "IPY_MODEL_42f48cffd25046b0ba9d7c5aefdb490a"
       ],
       "layout": "IPY_MODEL_baf2947cb17f4f368997d673223987be"
      }
     },
     "ca8ab5d193d14595b046016494dd4ad7": {
      "model_module": "@jupyter-widgets/base",
      "model_module_version": "1.2.0",
      "model_name": "LayoutModel",
      "state": {
       "_model_module": "@jupyter-widgets/base",
       "_model_module_version": "1.2.0",
       "_model_name": "LayoutModel",
       "_view_count": null,
       "_view_module": "@jupyter-widgets/base",
       "_view_module_version": "1.2.0",
       "_view_name": "LayoutView",
       "align_content": null,
       "align_items": null,
       "align_self": null,
       "border": null,
       "bottom": null,
       "display": null,
       "flex": null,
       "flex_flow": null,
       "grid_area": null,
       "grid_auto_columns": null,
       "grid_auto_flow": null,
       "grid_auto_rows": null,
       "grid_column": null,
       "grid_gap": null,
       "grid_row": null,
       "grid_template_areas": null,
       "grid_template_columns": null,
       "grid_template_rows": null,
       "height": null,
       "justify_content": null,
       "justify_items": null,
       "left": null,
       "margin": null,
       "max_height": null,
       "max_width": null,
       "min_height": null,
       "min_width": null,
       "object_fit": null,
       "object_position": null,
       "order": null,
       "overflow": null,
       "overflow_x": null,
       "overflow_y": null,
       "padding": null,
       "right": null,
       "top": null,
       "visibility": null,
       "width": null
      }
     },
     "d67f19bb24904218b1f66b722e974a58": {
      "model_module": "@jupyter-widgets/controls",
      "model_module_version": "1.5.0",
      "model_name": "FloatProgressModel",
      "state": {
       "_dom_classes": [],
       "_model_module": "@jupyter-widgets/controls",
       "_model_module_version": "1.5.0",
       "_model_name": "FloatProgressModel",
       "_view_count": null,
       "_view_module": "@jupyter-widgets/controls",
       "_view_module_version": "1.5.0",
       "_view_name": "ProgressView",
       "bar_style": "success",
       "description": "",
       "description_tooltip": null,
       "layout": "IPY_MODEL_1884a7bf5f0b4bb9acf1d03b9b13a2ef",
       "max": 2.0,
       "min": 0.0,
       "orientation": "horizontal",
       "style": "IPY_MODEL_de9a3be233fd499fa7f41826cc50a437",
       "value": 2.0
      }
     },
     "d728904cdbfe48d5aa15d99214dbdb31": {
      "model_module": "@jupyter-widgets/controls",
      "model_module_version": "1.5.0",
      "model_name": "FloatProgressModel",
      "state": {
       "_dom_classes": [],
       "_model_module": "@jupyter-widgets/controls",
       "_model_module_version": "1.5.0",
       "_model_name": "FloatProgressModel",
       "_view_count": null,
       "_view_module": "@jupyter-widgets/controls",
       "_view_module_version": "1.5.0",
       "_view_name": "ProgressView",
       "bar_style": "success",
       "description": "",
       "description_tooltip": null,
       "layout": "IPY_MODEL_079dc9b16fcd41b7b51e310f8a28c1a3",
       "max": 1.0,
       "min": 0.0,
       "orientation": "horizontal",
       "style": "IPY_MODEL_864204d1a9564e66afa331d68df5641f",
       "value": 1.0
      }
     },
     "de9a3be233fd499fa7f41826cc50a437": {
      "model_module": "@jupyter-widgets/controls",
      "model_module_version": "1.5.0",
      "model_name": "ProgressStyleModel",
      "state": {
       "_model_module": "@jupyter-widgets/controls",
       "_model_module_version": "1.5.0",
       "_model_name": "ProgressStyleModel",
       "_view_count": null,
       "_view_module": "@jupyter-widgets/base",
       "_view_module_version": "1.2.0",
       "_view_name": "StyleView",
       "bar_color": null,
       "description_width": ""
      }
     },
     "e0456e3f7bcb436eb626791a7a410333": {
      "model_module": "@jupyter-widgets/controls",
      "model_module_version": "1.5.0",
      "model_name": "HTMLModel",
      "state": {
       "_dom_classes": [],
       "_model_module": "@jupyter-widgets/controls",
       "_model_module_version": "1.5.0",
       "_model_name": "HTMLModel",
       "_view_count": null,
       "_view_module": "@jupyter-widgets/controls",
       "_view_module_version": "1.5.0",
       "_view_name": "HTMLView",
       "description": "",
       "description_tooltip": null,
       "layout": "IPY_MODEL_0391c32f0b71405d92344c25f79329b1",
       "placeholder": "​",
       "style": "IPY_MODEL_6acb0ce139d4485faaabb0263bf12b40",
       "value": "100%"
      }
     },
     "e48f8f6c1cad4507983b5ba3a2d6e95a": {
      "model_module": "@jupyter-widgets/base",
      "model_module_version": "1.2.0",
      "model_name": "LayoutModel",
      "state": {
       "_model_module": "@jupyter-widgets/base",
       "_model_module_version": "1.2.0",
       "_model_name": "LayoutModel",
       "_view_count": null,
       "_view_module": "@jupyter-widgets/base",
       "_view_module_version": "1.2.0",
       "_view_name": "LayoutView",
       "align_content": null,
       "align_items": null,
       "align_self": null,
       "border": null,
       "bottom": null,
       "display": null,
       "flex": null,
       "flex_flow": null,
       "grid_area": null,
       "grid_auto_columns": null,
       "grid_auto_flow": null,
       "grid_auto_rows": null,
       "grid_column": null,
       "grid_gap": null,
       "grid_row": null,
       "grid_template_areas": null,
       "grid_template_columns": null,
       "grid_template_rows": null,
       "height": null,
       "justify_content": null,
       "justify_items": null,
       "left": null,
       "margin": null,
       "max_height": null,
       "max_width": null,
       "min_height": null,
       "min_width": null,
       "object_fit": null,
       "object_position": null,
       "order": null,
       "overflow": null,
       "overflow_x": null,
       "overflow_y": null,
       "padding": null,
       "right": null,
       "top": null,
       "visibility": null,
       "width": null
      }
     },
     "e6765e00a69b4243a7347c61bb6461f9": {
      "model_module": "@jupyter-widgets/controls",
      "model_module_version": "1.5.0",
      "model_name": "HBoxModel",
      "state": {
       "_dom_classes": [],
       "_model_module": "@jupyter-widgets/controls",
       "_model_module_version": "1.5.0",
       "_model_name": "HBoxModel",
       "_view_count": null,
       "_view_module": "@jupyter-widgets/controls",
       "_view_module_version": "1.5.0",
       "_view_name": "HBoxView",
       "box_style": "",
       "children": [
        "IPY_MODEL_e0456e3f7bcb436eb626791a7a410333",
        "IPY_MODEL_d67f19bb24904218b1f66b722e974a58",
        "IPY_MODEL_4ab4cce99ffe49a89a1180836601b42f"
       ],
       "layout": "IPY_MODEL_e78bbf858bcf4dcb9f1c973ba6c2689c"
      }
     },
     "e78bbf858bcf4dcb9f1c973ba6c2689c": {
      "model_module": "@jupyter-widgets/base",
      "model_module_version": "1.2.0",
      "model_name": "LayoutModel",
      "state": {
       "_model_module": "@jupyter-widgets/base",
       "_model_module_version": "1.2.0",
       "_model_name": "LayoutModel",
       "_view_count": null,
       "_view_module": "@jupyter-widgets/base",
       "_view_module_version": "1.2.0",
       "_view_name": "LayoutView",
       "align_content": null,
       "align_items": null,
       "align_self": null,
       "border": null,
       "bottom": null,
       "display": null,
       "flex": null,
       "flex_flow": null,
       "grid_area": null,
       "grid_auto_columns": null,
       "grid_auto_flow": null,
       "grid_auto_rows": null,
       "grid_column": null,
       "grid_gap": null,
       "grid_row": null,
       "grid_template_areas": null,
       "grid_template_columns": null,
       "grid_template_rows": null,
       "height": null,
       "justify_content": null,
       "justify_items": null,
       "left": null,
       "margin": null,
       "max_height": null,
       "max_width": null,
       "min_height": null,
       "min_width": null,
       "object_fit": null,
       "object_position": null,
       "order": null,
       "overflow": null,
       "overflow_x": null,
       "overflow_y": null,
       "padding": null,
       "right": null,
       "top": null,
       "visibility": null,
       "width": null
      }
     },
     "f345f6138ef8427b9870469b88a58ff1": {
      "model_module": "@jupyter-widgets/base",
      "model_module_version": "1.2.0",
      "model_name": "LayoutModel",
      "state": {
       "_model_module": "@jupyter-widgets/base",
       "_model_module_version": "1.2.0",
       "_model_name": "LayoutModel",
       "_view_count": null,
       "_view_module": "@jupyter-widgets/base",
       "_view_module_version": "1.2.0",
       "_view_name": "LayoutView",
       "align_content": null,
       "align_items": null,
       "align_self": null,
       "border": null,
       "bottom": null,
       "display": null,
       "flex": null,
       "flex_flow": null,
       "grid_area": null,
       "grid_auto_columns": null,
       "grid_auto_flow": null,
       "grid_auto_rows": null,
       "grid_column": null,
       "grid_gap": null,
       "grid_row": null,
       "grid_template_areas": null,
       "grid_template_columns": null,
       "grid_template_rows": null,
       "height": null,
       "justify_content": null,
       "justify_items": null,
       "left": null,
       "margin": null,
       "max_height": null,
       "max_width": null,
       "min_height": null,
       "min_width": null,
       "object_fit": null,
       "object_position": null,
       "order": null,
       "overflow": null,
       "overflow_x": null,
       "overflow_y": null,
       "padding": null,
       "right": null,
       "top": null,
       "visibility": null,
       "width": null
      }
     },
     "ffe77824876b41d7bf1924bbed1330c0": {
      "model_module": "@jupyter-widgets/controls",
      "model_module_version": "1.5.0",
      "model_name": "HTMLModel",
      "state": {
       "_dom_classes": [],
       "_model_module": "@jupyter-widgets/controls",
       "_model_module_version": "1.5.0",
       "_model_name": "HTMLModel",
       "_view_count": null,
       "_view_module": "@jupyter-widgets/controls",
       "_view_module_version": "1.5.0",
       "_view_name": "HTMLView",
       "description": "",
       "description_tooltip": null,
       "layout": "IPY_MODEL_52cd5226b1c54f778323f56d63efbdd6",
       "placeholder": "​",
       "style": "IPY_MODEL_59455493780a4065847117c8730bcbdb",
       "value": "100%"
      }
     }
    },
    "version_major": 2,
    "version_minor": 0
   }
  }
 },
 "nbformat": 4,
 "nbformat_minor": 5
}
