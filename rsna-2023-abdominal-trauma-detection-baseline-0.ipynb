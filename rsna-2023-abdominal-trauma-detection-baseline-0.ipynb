{
 "cells": [
  {
   "cell_type": "markdown",
   "id": "aa8e371a",
   "metadata": {
    "papermill": {
     "duration": 0.004725,
     "end_time": "2023-08-31T14:50:47.969517",
     "exception": false,
     "start_time": "2023-08-31T14:50:47.964792",
     "status": "completed"
    },
    "tags": []
   },
   "source": [
    "## A First Simple Baseline - Submit Mean Probability for Each Label\n",
    "\n",
    "As a first starting point in the competition, we'll compute the mean probabilities for each tag/label that we have to predict. We'll use the information in **train.csv** to compute these mean values.\n",
    "\n",
    "For each patient in the test set, we simply return the computed mean values.\n"
   ]
  },
  {
   "cell_type": "code",
   "execution_count": 1,
   "id": "44d808f3",
   "metadata": {
    "_cell_guid": "b1076dfc-b9ad-4769-8c92-a6c4dae69d19",
    "_uuid": "8f2839f25d086af736a60e9eeb907d3b93b6e0e5",
    "execution": {
     "iopub.execute_input": "2023-08-31T14:50:47.979822Z",
     "iopub.status.busy": "2023-08-31T14:50:47.979202Z",
     "iopub.status.idle": "2023-08-31T14:50:47.988105Z",
     "shell.execute_reply": "2023-08-31T14:50:47.986614Z"
    },
    "papermill": {
     "duration": 0.016716,
     "end_time": "2023-08-31T14:50:47.990514",
     "exception": false,
     "start_time": "2023-08-31T14:50:47.973798",
     "status": "completed"
    },
    "tags": []
   },
   "outputs": [],
   "source": [
    "import numpy as np # linear algebra\n",
    "import pandas as pd # data processing, CSV file I/O (e.g. pd.read_csv)\n",
    "import os"
   ]
  },
  {
   "cell_type": "markdown",
   "id": "96755357",
   "metadata": {
    "papermill": {
     "duration": 0.00407,
     "end_time": "2023-08-31T14:50:47.998781",
     "exception": false,
     "start_time": "2023-08-31T14:50:47.994711",
     "status": "completed"
    },
    "tags": []
   },
   "source": [
    "We read in the **train.csv** file."
   ]
  },
  {
   "cell_type": "code",
   "execution_count": 2,
   "id": "edae5e0b",
   "metadata": {
    "execution": {
     "iopub.execute_input": "2023-08-31T14:50:48.008734Z",
     "iopub.status.busy": "2023-08-31T14:50:48.008417Z",
     "iopub.status.idle": "2023-08-31T14:50:48.049063Z",
     "shell.execute_reply": "2023-08-31T14:50:48.047869Z"
    },
    "papermill": {
     "duration": 0.04831,
     "end_time": "2023-08-31T14:50:48.051362",
     "exception": false,
     "start_time": "2023-08-31T14:50:48.003052",
     "status": "completed"
    },
    "tags": []
   },
   "outputs": [
    {
     "data": {
      "text/html": [
       "<div>\n",
       "<style scoped>\n",
       "    .dataframe tbody tr th:only-of-type {\n",
       "        vertical-align: middle;\n",
       "    }\n",
       "\n",
       "    .dataframe tbody tr th {\n",
       "        vertical-align: top;\n",
       "    }\n",
       "\n",
       "    .dataframe thead th {\n",
       "        text-align: right;\n",
       "    }\n",
       "</style>\n",
       "<table border=\"1\" class=\"dataframe\">\n",
       "  <thead>\n",
       "    <tr style=\"text-align: right;\">\n",
       "      <th></th>\n",
       "      <th>patient_id</th>\n",
       "      <th>bowel_healthy</th>\n",
       "      <th>bowel_injury</th>\n",
       "      <th>extravasation_healthy</th>\n",
       "      <th>extravasation_injury</th>\n",
       "      <th>kidney_healthy</th>\n",
       "      <th>kidney_low</th>\n",
       "      <th>kidney_high</th>\n",
       "      <th>liver_healthy</th>\n",
       "      <th>liver_low</th>\n",
       "      <th>liver_high</th>\n",
       "      <th>spleen_healthy</th>\n",
       "      <th>spleen_low</th>\n",
       "      <th>spleen_high</th>\n",
       "      <th>any_injury</th>\n",
       "    </tr>\n",
       "  </thead>\n",
       "  <tbody>\n",
       "    <tr>\n",
       "      <th>0</th>\n",
       "      <td>10004</td>\n",
       "      <td>1</td>\n",
       "      <td>0</td>\n",
       "      <td>0</td>\n",
       "      <td>1</td>\n",
       "      <td>0</td>\n",
       "      <td>1</td>\n",
       "      <td>0</td>\n",
       "      <td>1</td>\n",
       "      <td>0</td>\n",
       "      <td>0</td>\n",
       "      <td>0</td>\n",
       "      <td>0</td>\n",
       "      <td>1</td>\n",
       "      <td>1</td>\n",
       "    </tr>\n",
       "    <tr>\n",
       "      <th>1</th>\n",
       "      <td>10005</td>\n",
       "      <td>1</td>\n",
       "      <td>0</td>\n",
       "      <td>1</td>\n",
       "      <td>0</td>\n",
       "      <td>1</td>\n",
       "      <td>0</td>\n",
       "      <td>0</td>\n",
       "      <td>1</td>\n",
       "      <td>0</td>\n",
       "      <td>0</td>\n",
       "      <td>1</td>\n",
       "      <td>0</td>\n",
       "      <td>0</td>\n",
       "      <td>0</td>\n",
       "    </tr>\n",
       "    <tr>\n",
       "      <th>2</th>\n",
       "      <td>10007</td>\n",
       "      <td>1</td>\n",
       "      <td>0</td>\n",
       "      <td>1</td>\n",
       "      <td>0</td>\n",
       "      <td>1</td>\n",
       "      <td>0</td>\n",
       "      <td>0</td>\n",
       "      <td>1</td>\n",
       "      <td>0</td>\n",
       "      <td>0</td>\n",
       "      <td>1</td>\n",
       "      <td>0</td>\n",
       "      <td>0</td>\n",
       "      <td>0</td>\n",
       "    </tr>\n",
       "    <tr>\n",
       "      <th>3</th>\n",
       "      <td>10026</td>\n",
       "      <td>1</td>\n",
       "      <td>0</td>\n",
       "      <td>1</td>\n",
       "      <td>0</td>\n",
       "      <td>1</td>\n",
       "      <td>0</td>\n",
       "      <td>0</td>\n",
       "      <td>1</td>\n",
       "      <td>0</td>\n",
       "      <td>0</td>\n",
       "      <td>1</td>\n",
       "      <td>0</td>\n",
       "      <td>0</td>\n",
       "      <td>0</td>\n",
       "    </tr>\n",
       "    <tr>\n",
       "      <th>4</th>\n",
       "      <td>10051</td>\n",
       "      <td>1</td>\n",
       "      <td>0</td>\n",
       "      <td>1</td>\n",
       "      <td>0</td>\n",
       "      <td>1</td>\n",
       "      <td>0</td>\n",
       "      <td>0</td>\n",
       "      <td>1</td>\n",
       "      <td>0</td>\n",
       "      <td>0</td>\n",
       "      <td>0</td>\n",
       "      <td>1</td>\n",
       "      <td>0</td>\n",
       "      <td>1</td>\n",
       "    </tr>\n",
       "  </tbody>\n",
       "</table>\n",
       "</div>"
      ],
      "text/plain": [
       "   patient_id  bowel_healthy  bowel_injury  extravasation_healthy  \\\n",
       "0       10004              1             0                      0   \n",
       "1       10005              1             0                      1   \n",
       "2       10007              1             0                      1   \n",
       "3       10026              1             0                      1   \n",
       "4       10051              1             0                      1   \n",
       "\n",
       "   extravasation_injury  kidney_healthy  kidney_low  kidney_high  \\\n",
       "0                     1               0           1            0   \n",
       "1                     0               1           0            0   \n",
       "2                     0               1           0            0   \n",
       "3                     0               1           0            0   \n",
       "4                     0               1           0            0   \n",
       "\n",
       "   liver_healthy  liver_low  liver_high  spleen_healthy  spleen_low  \\\n",
       "0              1          0           0               0           0   \n",
       "1              1          0           0               1           0   \n",
       "2              1          0           0               1           0   \n",
       "3              1          0           0               1           0   \n",
       "4              1          0           0               0           1   \n",
       "\n",
       "   spleen_high  any_injury  \n",
       "0            1           1  \n",
       "1            0           0  \n",
       "2            0           0  \n",
       "3            0           0  \n",
       "4            0           1  "
      ]
     },
     "execution_count": 2,
     "metadata": {},
     "output_type": "execute_result"
    }
   ],
   "source": [
    "BASE_DIR = '/kaggle/input/rsna-2023-abdominal-trauma-detection/'\n",
    "patient_labels = pd.read_csv(BASE_DIR + 'train.csv')\n",
    "patient_labels.head()"
   ]
  },
  {
   "cell_type": "markdown",
   "id": "a27faf75",
   "metadata": {
    "papermill": {
     "duration": 0.004351,
     "end_time": "2023-08-31T14:50:48.060337",
     "exception": false,
     "start_time": "2023-08-31T14:50:48.055986",
     "status": "completed"
    },
    "tags": []
   },
   "source": [
    "We compute the mean values of the labels we are interested in."
   ]
  },
  {
   "cell_type": "code",
   "execution_count": 3,
   "id": "1e1ddfd2",
   "metadata": {
    "execution": {
     "iopub.execute_input": "2023-08-31T14:50:48.070856Z",
     "iopub.status.busy": "2023-08-31T14:50:48.070528Z",
     "iopub.status.idle": "2023-08-31T14:50:48.087911Z",
     "shell.execute_reply": "2023-08-31T14:50:48.086824Z"
    },
    "papermill": {
     "duration": 0.025486,
     "end_time": "2023-08-31T14:50:48.090251",
     "exception": false,
     "start_time": "2023-08-31T14:50:48.064765",
     "status": "completed"
    },
    "tags": []
   },
   "outputs": [
    {
     "data": {
      "text/plain": [
       "bowel_healthy            0.979663\n",
       "bowel_injury             0.020337\n",
       "extravasation_healthy    0.936447\n",
       "extravasation_injury     0.063553\n",
       "kidney_healthy           0.942167\n",
       "kidney_low               0.036543\n",
       "kidney_high              0.021290\n",
       "liver_healthy            0.897998\n",
       "liver_low                0.082301\n",
       "liver_high               0.019701\n",
       "spleen_healthy           0.887512\n",
       "spleen_low               0.063235\n",
       "spleen_high              0.049253\n",
       "dtype: float64"
      ]
     },
     "execution_count": 3,
     "metadata": {},
     "output_type": "execute_result"
    }
   ],
   "source": [
    "target_labels = ['bowel_healthy', 'bowel_injury', 'extravasation_healthy',\n",
    "       'extravasation_injury', 'kidney_healthy', 'kidney_low', 'kidney_high',\n",
    "       'liver_healthy', 'liver_low', 'liver_high', 'spleen_healthy',\n",
    "       'spleen_low', 'spleen_high'] # get from patient_labels.columns, instead of typing\n",
    "mean_prob = patient_labels[target_labels].mean()\n",
    "mean_prob"
   ]
  },
  {
   "cell_type": "markdown",
   "id": "5bd8bc2a",
   "metadata": {
    "papermill": {
     "duration": 0.005528,
     "end_time": "2023-08-31T14:50:48.100367",
     "exception": false,
     "start_time": "2023-08-31T14:50:48.094839",
     "status": "completed"
    },
    "tags": []
   },
   "source": [
    "We get a list of all the patients for whom we need to make predictions."
   ]
  },
  {
   "cell_type": "code",
   "execution_count": 4,
   "id": "4c0f6046",
   "metadata": {
    "execution": {
     "iopub.execute_input": "2023-08-31T14:50:48.110553Z",
     "iopub.status.busy": "2023-08-31T14:50:48.110115Z",
     "iopub.status.idle": "2023-08-31T14:50:48.123463Z",
     "shell.execute_reply": "2023-08-31T14:50:48.122627Z"
    },
    "papermill": {
     "duration": 0.021001,
     "end_time": "2023-08-31T14:50:48.125626",
     "exception": false,
     "start_time": "2023-08-31T14:50:48.104625",
     "status": "completed"
    },
    "tags": []
   },
   "outputs": [],
   "source": [
    "test_patient_ids = os.listdir(BASE_DIR + 'test_images')"
   ]
  },
  {
   "cell_type": "markdown",
   "id": "b61e728f",
   "metadata": {
    "papermill": {
     "duration": 0.004321,
     "end_time": "2023-08-31T14:50:48.134629",
     "exception": false,
     "start_time": "2023-08-31T14:50:48.130308",
     "status": "completed"
    },
    "tags": []
   },
   "source": [
    "We create a new dataframe with appropriate column names (based on what is asked in Evaluation section of competition)."
   ]
  },
  {
   "cell_type": "code",
   "execution_count": 5,
   "id": "cfbc9e8c",
   "metadata": {
    "execution": {
     "iopub.execute_input": "2023-08-31T14:50:48.145519Z",
     "iopub.status.busy": "2023-08-31T14:50:48.144772Z",
     "iopub.status.idle": "2023-08-31T14:50:48.164767Z",
     "shell.execute_reply": "2023-08-31T14:50:48.163511Z"
    },
    "papermill": {
     "duration": 0.027933,
     "end_time": "2023-08-31T14:50:48.166882",
     "exception": false,
     "start_time": "2023-08-31T14:50:48.138949",
     "status": "completed"
    },
    "tags": []
   },
   "outputs": [
    {
     "data": {
      "text/html": [
       "<div>\n",
       "<style scoped>\n",
       "    .dataframe tbody tr th:only-of-type {\n",
       "        vertical-align: middle;\n",
       "    }\n",
       "\n",
       "    .dataframe tbody tr th {\n",
       "        vertical-align: top;\n",
       "    }\n",
       "\n",
       "    .dataframe thead th {\n",
       "        text-align: right;\n",
       "    }\n",
       "</style>\n",
       "<table border=\"1\" class=\"dataframe\">\n",
       "  <thead>\n",
       "    <tr style=\"text-align: right;\">\n",
       "      <th></th>\n",
       "      <th>patient_id</th>\n",
       "      <th>bowel_healthy</th>\n",
       "      <th>bowel_injury</th>\n",
       "      <th>extravasation_healthy</th>\n",
       "      <th>extravasation_injury</th>\n",
       "      <th>kidney_healthy</th>\n",
       "      <th>kidney_low</th>\n",
       "      <th>kidney_high</th>\n",
       "      <th>liver_healthy</th>\n",
       "      <th>liver_low</th>\n",
       "      <th>liver_high</th>\n",
       "      <th>spleen_healthy</th>\n",
       "      <th>spleen_low</th>\n",
       "      <th>spleen_high</th>\n",
       "    </tr>\n",
       "  </thead>\n",
       "  <tbody>\n",
       "    <tr>\n",
       "      <th>0</th>\n",
       "      <td>63706</td>\n",
       "      <td>0.979663</td>\n",
       "      <td>0.020337</td>\n",
       "      <td>0.936447</td>\n",
       "      <td>0.063553</td>\n",
       "      <td>0.942167</td>\n",
       "      <td>0.036543</td>\n",
       "      <td>0.02129</td>\n",
       "      <td>0.897998</td>\n",
       "      <td>0.082301</td>\n",
       "      <td>0.019701</td>\n",
       "      <td>0.887512</td>\n",
       "      <td>0.063235</td>\n",
       "      <td>0.049253</td>\n",
       "    </tr>\n",
       "    <tr>\n",
       "      <th>1</th>\n",
       "      <td>50046</td>\n",
       "      <td>0.979663</td>\n",
       "      <td>0.020337</td>\n",
       "      <td>0.936447</td>\n",
       "      <td>0.063553</td>\n",
       "      <td>0.942167</td>\n",
       "      <td>0.036543</td>\n",
       "      <td>0.02129</td>\n",
       "      <td>0.897998</td>\n",
       "      <td>0.082301</td>\n",
       "      <td>0.019701</td>\n",
       "      <td>0.887512</td>\n",
       "      <td>0.063235</td>\n",
       "      <td>0.049253</td>\n",
       "    </tr>\n",
       "    <tr>\n",
       "      <th>2</th>\n",
       "      <td>48843</td>\n",
       "      <td>0.979663</td>\n",
       "      <td>0.020337</td>\n",
       "      <td>0.936447</td>\n",
       "      <td>0.063553</td>\n",
       "      <td>0.942167</td>\n",
       "      <td>0.036543</td>\n",
       "      <td>0.02129</td>\n",
       "      <td>0.897998</td>\n",
       "      <td>0.082301</td>\n",
       "      <td>0.019701</td>\n",
       "      <td>0.887512</td>\n",
       "      <td>0.063235</td>\n",
       "      <td>0.049253</td>\n",
       "    </tr>\n",
       "  </tbody>\n",
       "</table>\n",
       "</div>"
      ],
      "text/plain": [
       "  patient_id  bowel_healthy  bowel_injury  extravasation_healthy  \\\n",
       "0      63706       0.979663      0.020337               0.936447   \n",
       "1      50046       0.979663      0.020337               0.936447   \n",
       "2      48843       0.979663      0.020337               0.936447   \n",
       "\n",
       "   extravasation_injury  kidney_healthy  kidney_low  kidney_high  \\\n",
       "0              0.063553        0.942167    0.036543      0.02129   \n",
       "1              0.063553        0.942167    0.036543      0.02129   \n",
       "2              0.063553        0.942167    0.036543      0.02129   \n",
       "\n",
       "   liver_healthy  liver_low  liver_high  spleen_healthy  spleen_low  \\\n",
       "0       0.897998   0.082301    0.019701        0.887512    0.063235   \n",
       "1       0.897998   0.082301    0.019701        0.887512    0.063235   \n",
       "2       0.897998   0.082301    0.019701        0.887512    0.063235   \n",
       "\n",
       "   spleen_high  \n",
       "0     0.049253  \n",
       "1     0.049253  \n",
       "2     0.049253  "
      ]
     },
     "execution_count": 5,
     "metadata": {},
     "output_type": "execute_result"
    }
   ],
   "source": [
    "submission = pd.DataFrame(test_patient_ids, columns = ['patient_id'])\n",
    "for label in target_labels:\n",
    "    submission[label] = mean_prob[label]\n",
    "submission"
   ]
  },
  {
   "cell_type": "markdown",
   "id": "c681d3f0",
   "metadata": {
    "papermill": {
     "duration": 0.004468,
     "end_time": "2023-08-31T14:50:48.176069",
     "exception": false,
     "start_time": "2023-08-31T14:50:48.171601",
     "status": "completed"
    },
    "tags": []
   },
   "source": [
    "We write our predictions to the submission csv file."
   ]
  },
  {
   "cell_type": "code",
   "execution_count": 6,
   "id": "ce87fbfa",
   "metadata": {
    "execution": {
     "iopub.execute_input": "2023-08-31T14:50:48.187086Z",
     "iopub.status.busy": "2023-08-31T14:50:48.186752Z",
     "iopub.status.idle": "2023-08-31T14:50:48.193981Z",
     "shell.execute_reply": "2023-08-31T14:50:48.193075Z"
    },
    "papermill": {
     "duration": 0.015412,
     "end_time": "2023-08-31T14:50:48.196110",
     "exception": false,
     "start_time": "2023-08-31T14:50:48.180698",
     "status": "completed"
    },
    "tags": []
   },
   "outputs": [],
   "source": [
    "submission.to_csv('submission.csv', header = True, index = False)"
   ]
  },
  {
   "cell_type": "markdown",
   "id": "9bde5f84",
   "metadata": {
    "papermill": {
     "duration": 0.004667,
     "end_time": "2023-08-31T14:50:48.205688",
     "exception": false,
     "start_time": "2023-08-31T14:50:48.201021",
     "status": "completed"
    },
    "tags": []
   },
   "source": [
    "As expected, this solution is not very good. The submission gives us a place of 418 out of 476 teams; so we are at the bottom of the table. We're now going to iterate upon our submission."
   ]
  }
 ],
 "kernelspec": {
  "display_name": "Python 3",
  "language": "python",
  "name": "python3"
 },
 "language_info": {
  "codemirror_mode": {
   "name": "ipython",
   "version": 3
  },
  "file_extension": ".py",
  "mimetype": "text/x-python",
  "name": "python",
  "nbconvert_exporter": "python",
  "pygments_lexer": "ipython3",
  "version": "3.6.4"
 },
 "metadata": {
  "kernelspec": {
   "display_name": "Python 3",
   "language": "python",
   "name": "python3"
  },
  "language_info": {
   "codemirror_mode": {
    "name": "ipython",
    "version": 3
   },
   "file_extension": ".py",
   "mimetype": "text/x-python",
   "name": "python",
   "nbconvert_exporter": "python",
   "pygments_lexer": "ipython3",
   "version": "3.10.12"
  },
  "papermill": {
   "default_parameters": {},
   "duration": 9.790311,
   "end_time": "2023-08-31T14:50:49.033289",
   "environment_variables": {},
   "exception": null,
   "input_path": "__notebook__.ipynb",
   "output_path": "__notebook__.ipynb",
   "parameters": {},
   "start_time": "2023-08-31T14:50:39.242978",
   "version": "2.4.0"
  }
 },
 "nbformat": 4,
 "nbformat_minor": 5
}
